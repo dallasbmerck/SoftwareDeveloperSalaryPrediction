{
 "cells": [
  {
   "cell_type": "code",
   "execution_count": 1,
   "id": "7960ee94",
   "metadata": {},
   "outputs": [],
   "source": [
    "import pandas as pd\n",
    "import matplotlib.pyplot as plt\n",
    "\n",
    "# Call pandas read csv to read data from the CSV.\n",
    "df = pd.read_csv('survey_results_public.csv')"
   ]
  },
  {
   "cell_type": "code",
   "execution_count": 2,
   "id": "2c0f5719",
   "metadata": {
    "scrolled": false
   },
   "outputs": [
    {
     "data": {
      "text/html": [
       "<div>\n",
       "<style scoped>\n",
       "    .dataframe tbody tr th:only-of-type {\n",
       "        vertical-align: middle;\n",
       "    }\n",
       "\n",
       "    .dataframe tbody tr th {\n",
       "        vertical-align: top;\n",
       "    }\n",
       "\n",
       "    .dataframe thead th {\n",
       "        text-align: right;\n",
       "    }\n",
       "</style>\n",
       "<table border=\"1\" class=\"dataframe\">\n",
       "  <thead>\n",
       "    <tr style=\"text-align: right;\">\n",
       "      <th></th>\n",
       "      <th>ResponseId</th>\n",
       "      <th>MainBranch</th>\n",
       "      <th>Employment</th>\n",
       "      <th>Country</th>\n",
       "      <th>US_State</th>\n",
       "      <th>UK_Country</th>\n",
       "      <th>EdLevel</th>\n",
       "      <th>Age1stCode</th>\n",
       "      <th>LearnCode</th>\n",
       "      <th>YearsCode</th>\n",
       "      <th>...</th>\n",
       "      <th>Age</th>\n",
       "      <th>Gender</th>\n",
       "      <th>Trans</th>\n",
       "      <th>Sexuality</th>\n",
       "      <th>Ethnicity</th>\n",
       "      <th>Accessibility</th>\n",
       "      <th>MentalHealth</th>\n",
       "      <th>SurveyLength</th>\n",
       "      <th>SurveyEase</th>\n",
       "      <th>ConvertedCompYearly</th>\n",
       "    </tr>\n",
       "  </thead>\n",
       "  <tbody>\n",
       "    <tr>\n",
       "      <th>0</th>\n",
       "      <td>1</td>\n",
       "      <td>I am a developer by profession</td>\n",
       "      <td>Independent contractor, freelancer, or self-em...</td>\n",
       "      <td>Slovakia</td>\n",
       "      <td>NaN</td>\n",
       "      <td>NaN</td>\n",
       "      <td>Secondary school (e.g. American high school, G...</td>\n",
       "      <td>18 - 24 years</td>\n",
       "      <td>Coding Bootcamp;Other online resources (ex: vi...</td>\n",
       "      <td>NaN</td>\n",
       "      <td>...</td>\n",
       "      <td>25-34 years old</td>\n",
       "      <td>Man</td>\n",
       "      <td>No</td>\n",
       "      <td>Straight / Heterosexual</td>\n",
       "      <td>White or of European descent</td>\n",
       "      <td>None of the above</td>\n",
       "      <td>None of the above</td>\n",
       "      <td>Appropriate in length</td>\n",
       "      <td>Easy</td>\n",
       "      <td>62268.0</td>\n",
       "    </tr>\n",
       "    <tr>\n",
       "      <th>1</th>\n",
       "      <td>2</td>\n",
       "      <td>I am a student who is learning to code</td>\n",
       "      <td>Student, full-time</td>\n",
       "      <td>Netherlands</td>\n",
       "      <td>NaN</td>\n",
       "      <td>NaN</td>\n",
       "      <td>Bachelor’s degree (B.A., B.S., B.Eng., etc.)</td>\n",
       "      <td>11 - 17 years</td>\n",
       "      <td>Other online resources (ex: videos, blogs, etc...</td>\n",
       "      <td>7</td>\n",
       "      <td>...</td>\n",
       "      <td>18-24 years old</td>\n",
       "      <td>Man</td>\n",
       "      <td>No</td>\n",
       "      <td>Straight / Heterosexual</td>\n",
       "      <td>White or of European descent</td>\n",
       "      <td>None of the above</td>\n",
       "      <td>None of the above</td>\n",
       "      <td>Appropriate in length</td>\n",
       "      <td>Easy</td>\n",
       "      <td>NaN</td>\n",
       "    </tr>\n",
       "    <tr>\n",
       "      <th>2</th>\n",
       "      <td>3</td>\n",
       "      <td>I am not primarily a developer, but I write co...</td>\n",
       "      <td>Student, full-time</td>\n",
       "      <td>Russian Federation</td>\n",
       "      <td>NaN</td>\n",
       "      <td>NaN</td>\n",
       "      <td>Bachelor’s degree (B.A., B.S., B.Eng., etc.)</td>\n",
       "      <td>11 - 17 years</td>\n",
       "      <td>Other online resources (ex: videos, blogs, etc...</td>\n",
       "      <td>NaN</td>\n",
       "      <td>...</td>\n",
       "      <td>18-24 years old</td>\n",
       "      <td>Man</td>\n",
       "      <td>No</td>\n",
       "      <td>Prefer not to say</td>\n",
       "      <td>Prefer not to say</td>\n",
       "      <td>None of the above</td>\n",
       "      <td>None of the above</td>\n",
       "      <td>Appropriate in length</td>\n",
       "      <td>Easy</td>\n",
       "      <td>NaN</td>\n",
       "    </tr>\n",
       "    <tr>\n",
       "      <th>3</th>\n",
       "      <td>4</td>\n",
       "      <td>I am a developer by profession</td>\n",
       "      <td>Employed full-time</td>\n",
       "      <td>Austria</td>\n",
       "      <td>NaN</td>\n",
       "      <td>NaN</td>\n",
       "      <td>Master’s degree (M.A., M.S., M.Eng., MBA, etc.)</td>\n",
       "      <td>11 - 17 years</td>\n",
       "      <td>NaN</td>\n",
       "      <td>NaN</td>\n",
       "      <td>...</td>\n",
       "      <td>35-44 years old</td>\n",
       "      <td>Man</td>\n",
       "      <td>No</td>\n",
       "      <td>Straight / Heterosexual</td>\n",
       "      <td>White or of European descent</td>\n",
       "      <td>I am deaf / hard of hearing</td>\n",
       "      <td>NaN</td>\n",
       "      <td>Appropriate in length</td>\n",
       "      <td>Neither easy nor difficult</td>\n",
       "      <td>NaN</td>\n",
       "    </tr>\n",
       "    <tr>\n",
       "      <th>4</th>\n",
       "      <td>5</td>\n",
       "      <td>I am a developer by profession</td>\n",
       "      <td>Independent contractor, freelancer, or self-em...</td>\n",
       "      <td>United Kingdom of Great Britain and Northern I...</td>\n",
       "      <td>NaN</td>\n",
       "      <td>England</td>\n",
       "      <td>Master’s degree (M.A., M.S., M.Eng., MBA, etc.)</td>\n",
       "      <td>5 - 10 years</td>\n",
       "      <td>Friend or family member</td>\n",
       "      <td>17</td>\n",
       "      <td>...</td>\n",
       "      <td>25-34 years old</td>\n",
       "      <td>Man</td>\n",
       "      <td>No</td>\n",
       "      <td>NaN</td>\n",
       "      <td>White or of European descent</td>\n",
       "      <td>None of the above</td>\n",
       "      <td>NaN</td>\n",
       "      <td>Appropriate in length</td>\n",
       "      <td>Easy</td>\n",
       "      <td>NaN</td>\n",
       "    </tr>\n",
       "  </tbody>\n",
       "</table>\n",
       "<p>5 rows × 48 columns</p>\n",
       "</div>"
      ],
      "text/plain": [
       "   ResponseId                                         MainBranch  \\\n",
       "0           1                     I am a developer by profession   \n",
       "1           2             I am a student who is learning to code   \n",
       "2           3  I am not primarily a developer, but I write co...   \n",
       "3           4                     I am a developer by profession   \n",
       "4           5                     I am a developer by profession   \n",
       "\n",
       "                                          Employment  \\\n",
       "0  Independent contractor, freelancer, or self-em...   \n",
       "1                                 Student, full-time   \n",
       "2                                 Student, full-time   \n",
       "3                                 Employed full-time   \n",
       "4  Independent contractor, freelancer, or self-em...   \n",
       "\n",
       "                                             Country US_State UK_Country  \\\n",
       "0                                           Slovakia      NaN        NaN   \n",
       "1                                        Netherlands      NaN        NaN   \n",
       "2                                 Russian Federation      NaN        NaN   \n",
       "3                                            Austria      NaN        NaN   \n",
       "4  United Kingdom of Great Britain and Northern I...      NaN    England   \n",
       "\n",
       "                                             EdLevel     Age1stCode  \\\n",
       "0  Secondary school (e.g. American high school, G...  18 - 24 years   \n",
       "1       Bachelor’s degree (B.A., B.S., B.Eng., etc.)  11 - 17 years   \n",
       "2       Bachelor’s degree (B.A., B.S., B.Eng., etc.)  11 - 17 years   \n",
       "3    Master’s degree (M.A., M.S., M.Eng., MBA, etc.)  11 - 17 years   \n",
       "4    Master’s degree (M.A., M.S., M.Eng., MBA, etc.)   5 - 10 years   \n",
       "\n",
       "                                           LearnCode YearsCode  ...  \\\n",
       "0  Coding Bootcamp;Other online resources (ex: vi...       NaN  ...   \n",
       "1  Other online resources (ex: videos, blogs, etc...         7  ...   \n",
       "2  Other online resources (ex: videos, blogs, etc...       NaN  ...   \n",
       "3                                                NaN       NaN  ...   \n",
       "4                            Friend or family member        17  ...   \n",
       "\n",
       "               Age Gender Trans                Sexuality  \\\n",
       "0  25-34 years old    Man    No  Straight / Heterosexual   \n",
       "1  18-24 years old    Man    No  Straight / Heterosexual   \n",
       "2  18-24 years old    Man    No        Prefer not to say   \n",
       "3  35-44 years old    Man    No  Straight / Heterosexual   \n",
       "4  25-34 years old    Man    No                      NaN   \n",
       "\n",
       "                      Ethnicity                Accessibility  \\\n",
       "0  White or of European descent            None of the above   \n",
       "1  White or of European descent            None of the above   \n",
       "2             Prefer not to say            None of the above   \n",
       "3  White or of European descent  I am deaf / hard of hearing   \n",
       "4  White or of European descent            None of the above   \n",
       "\n",
       "        MentalHealth           SurveyLength                  SurveyEase  \\\n",
       "0  None of the above  Appropriate in length                        Easy   \n",
       "1  None of the above  Appropriate in length                        Easy   \n",
       "2  None of the above  Appropriate in length                        Easy   \n",
       "3                NaN  Appropriate in length  Neither easy nor difficult   \n",
       "4                NaN  Appropriate in length                        Easy   \n",
       "\n",
       "  ConvertedCompYearly  \n",
       "0             62268.0  \n",
       "1                 NaN  \n",
       "2                 NaN  \n",
       "3                 NaN  \n",
       "4                 NaN  \n",
       "\n",
       "[5 rows x 48 columns]"
      ]
     },
     "execution_count": 2,
     "metadata": {},
     "output_type": "execute_result"
    }
   ],
   "source": [
    "# Show a snippet of the unprocessed CSV.\n",
    "df.head()"
   ]
  },
  {
   "cell_type": "code",
   "execution_count": 3,
   "id": "e3b8d797",
   "metadata": {},
   "outputs": [
    {
     "data": {
      "text/html": [
       "<div>\n",
       "<style scoped>\n",
       "    .dataframe tbody tr th:only-of-type {\n",
       "        vertical-align: middle;\n",
       "    }\n",
       "\n",
       "    .dataframe tbody tr th {\n",
       "        vertical-align: top;\n",
       "    }\n",
       "\n",
       "    .dataframe thead th {\n",
       "        text-align: right;\n",
       "    }\n",
       "</style>\n",
       "<table border=\"1\" class=\"dataframe\">\n",
       "  <thead>\n",
       "    <tr style=\"text-align: right;\">\n",
       "      <th></th>\n",
       "      <th>Country</th>\n",
       "      <th>EdLevel</th>\n",
       "      <th>YearsCodePro</th>\n",
       "      <th>Employment</th>\n",
       "      <th>Salary</th>\n",
       "    </tr>\n",
       "  </thead>\n",
       "  <tbody>\n",
       "    <tr>\n",
       "      <th>0</th>\n",
       "      <td>Slovakia</td>\n",
       "      <td>Secondary school (e.g. American high school, G...</td>\n",
       "      <td>NaN</td>\n",
       "      <td>Independent contractor, freelancer, or self-em...</td>\n",
       "      <td>62268.0</td>\n",
       "    </tr>\n",
       "    <tr>\n",
       "      <th>1</th>\n",
       "      <td>Netherlands</td>\n",
       "      <td>Bachelor’s degree (B.A., B.S., B.Eng., etc.)</td>\n",
       "      <td>NaN</td>\n",
       "      <td>Student, full-time</td>\n",
       "      <td>NaN</td>\n",
       "    </tr>\n",
       "    <tr>\n",
       "      <th>2</th>\n",
       "      <td>Russian Federation</td>\n",
       "      <td>Bachelor’s degree (B.A., B.S., B.Eng., etc.)</td>\n",
       "      <td>NaN</td>\n",
       "      <td>Student, full-time</td>\n",
       "      <td>NaN</td>\n",
       "    </tr>\n",
       "    <tr>\n",
       "      <th>3</th>\n",
       "      <td>Austria</td>\n",
       "      <td>Master’s degree (M.A., M.S., M.Eng., MBA, etc.)</td>\n",
       "      <td>NaN</td>\n",
       "      <td>Employed full-time</td>\n",
       "      <td>NaN</td>\n",
       "    </tr>\n",
       "    <tr>\n",
       "      <th>4</th>\n",
       "      <td>United Kingdom of Great Britain and Northern I...</td>\n",
       "      <td>Master’s degree (M.A., M.S., M.Eng., MBA, etc.)</td>\n",
       "      <td>10</td>\n",
       "      <td>Independent contractor, freelancer, or self-em...</td>\n",
       "      <td>NaN</td>\n",
       "    </tr>\n",
       "  </tbody>\n",
       "</table>\n",
       "</div>"
      ],
      "text/plain": [
       "                                             Country  \\\n",
       "0                                           Slovakia   \n",
       "1                                        Netherlands   \n",
       "2                                 Russian Federation   \n",
       "3                                            Austria   \n",
       "4  United Kingdom of Great Britain and Northern I...   \n",
       "\n",
       "                                             EdLevel YearsCodePro  \\\n",
       "0  Secondary school (e.g. American high school, G...          NaN   \n",
       "1       Bachelor’s degree (B.A., B.S., B.Eng., etc.)          NaN   \n",
       "2       Bachelor’s degree (B.A., B.S., B.Eng., etc.)          NaN   \n",
       "3    Master’s degree (M.A., M.S., M.Eng., MBA, etc.)          NaN   \n",
       "4    Master’s degree (M.A., M.S., M.Eng., MBA, etc.)           10   \n",
       "\n",
       "                                          Employment   Salary  \n",
       "0  Independent contractor, freelancer, or self-em...  62268.0  \n",
       "1                                 Student, full-time      NaN  \n",
       "2                                 Student, full-time      NaN  \n",
       "3                                 Employed full-time      NaN  \n",
       "4  Independent contractor, freelancer, or self-em...      NaN  "
      ]
     },
     "execution_count": 3,
     "metadata": {},
     "output_type": "execute_result"
    }
   ],
   "source": [
    "# Remove all columns other than Country, EdLevel, Employment, ConvertedCompYearly.\n",
    "df = df[['Country', 'EdLevel', 'YearsCodePro', 'Employment', 'ConvertedCompYearly']]\n",
    "# Change column name to Salary then check results.\n",
    "df = df.rename({'ConvertedCompYearly': 'Salary'}, axis = 1)\n",
    "df.head()"
   ]
  },
  {
   "cell_type": "code",
   "execution_count": 4,
   "id": "408e67c4",
   "metadata": {},
   "outputs": [
    {
     "data": {
      "text/html": [
       "<div>\n",
       "<style scoped>\n",
       "    .dataframe tbody tr th:only-of-type {\n",
       "        vertical-align: middle;\n",
       "    }\n",
       "\n",
       "    .dataframe tbody tr th {\n",
       "        vertical-align: top;\n",
       "    }\n",
       "\n",
       "    .dataframe thead th {\n",
       "        text-align: right;\n",
       "    }\n",
       "</style>\n",
       "<table border=\"1\" class=\"dataframe\">\n",
       "  <thead>\n",
       "    <tr style=\"text-align: right;\">\n",
       "      <th></th>\n",
       "      <th>Country</th>\n",
       "      <th>EdLevel</th>\n",
       "      <th>YearsCodePro</th>\n",
       "      <th>Employment</th>\n",
       "      <th>Salary</th>\n",
       "    </tr>\n",
       "  </thead>\n",
       "  <tbody>\n",
       "    <tr>\n",
       "      <th>0</th>\n",
       "      <td>Slovakia</td>\n",
       "      <td>Secondary school (e.g. American high school, G...</td>\n",
       "      <td>NaN</td>\n",
       "      <td>Independent contractor, freelancer, or self-em...</td>\n",
       "      <td>62268.0</td>\n",
       "    </tr>\n",
       "    <tr>\n",
       "      <th>9</th>\n",
       "      <td>Sweden</td>\n",
       "      <td>Master’s degree (M.A., M.S., M.Eng., MBA, etc.)</td>\n",
       "      <td>4</td>\n",
       "      <td>Employed full-time</td>\n",
       "      <td>51552.0</td>\n",
       "    </tr>\n",
       "    <tr>\n",
       "      <th>11</th>\n",
       "      <td>Spain</td>\n",
       "      <td>Bachelor’s degree (B.A., B.S., B.Eng., etc.)</td>\n",
       "      <td>5</td>\n",
       "      <td>Employed full-time</td>\n",
       "      <td>46482.0</td>\n",
       "    </tr>\n",
       "    <tr>\n",
       "      <th>12</th>\n",
       "      <td>Germany</td>\n",
       "      <td>Master’s degree (M.A., M.S., M.Eng., MBA, etc.)</td>\n",
       "      <td>6</td>\n",
       "      <td>Employed full-time</td>\n",
       "      <td>77290.0</td>\n",
       "    </tr>\n",
       "    <tr>\n",
       "      <th>16</th>\n",
       "      <td>Turkey</td>\n",
       "      <td>Bachelor’s degree (B.A., B.S., B.Eng., etc.)</td>\n",
       "      <td>2</td>\n",
       "      <td>Employed full-time</td>\n",
       "      <td>17748.0</td>\n",
       "    </tr>\n",
       "  </tbody>\n",
       "</table>\n",
       "</div>"
      ],
      "text/plain": [
       "     Country                                            EdLevel YearsCodePro  \\\n",
       "0   Slovakia  Secondary school (e.g. American high school, G...          NaN   \n",
       "9     Sweden    Master’s degree (M.A., M.S., M.Eng., MBA, etc.)            4   \n",
       "11     Spain       Bachelor’s degree (B.A., B.S., B.Eng., etc.)            5   \n",
       "12   Germany    Master’s degree (M.A., M.S., M.Eng., MBA, etc.)            6   \n",
       "16    Turkey       Bachelor’s degree (B.A., B.S., B.Eng., etc.)            2   \n",
       "\n",
       "                                           Employment   Salary  \n",
       "0   Independent contractor, freelancer, or self-em...  62268.0  \n",
       "9                                  Employed full-time  51552.0  \n",
       "11                                 Employed full-time  46482.0  \n",
       "12                                 Employed full-time  77290.0  \n",
       "16                                 Employed full-time  17748.0  "
      ]
     },
     "execution_count": 4,
     "metadata": {},
     "output_type": "execute_result"
    }
   ],
   "source": [
    "# Remove row entries where values from Salary are null.\n",
    "df = df[df['Salary'].notnull()]\n",
    "df.head()"
   ]
  },
  {
   "cell_type": "code",
   "execution_count": 5,
   "id": "37dd7110",
   "metadata": {},
   "outputs": [
    {
     "name": "stdout",
     "output_type": "stream",
     "text": [
      "<class 'pandas.core.frame.DataFrame'>\n",
      "Int64Index: 46844 entries, 0 to 83438\n",
      "Data columns (total 5 columns):\n",
      " #   Column        Non-Null Count  Dtype  \n",
      "---  ------        --------------  -----  \n",
      " 0   Country       46844 non-null  object \n",
      " 1   EdLevel       46823 non-null  object \n",
      " 2   YearsCodePro  46391 non-null  object \n",
      " 3   Employment    46831 non-null  object \n",
      " 4   Salary        46844 non-null  float64\n",
      "dtypes: float64(1), object(4)\n",
      "memory usage: 2.1+ MB\n"
     ]
    }
   ],
   "source": [
    "# Check type and number of values.\n",
    "df.info()"
   ]
  },
  {
   "cell_type": "code",
   "execution_count": 6,
   "id": "94503def",
   "metadata": {},
   "outputs": [
    {
     "name": "stdout",
     "output_type": "stream",
     "text": [
      "<class 'pandas.core.frame.DataFrame'>\n",
      "Int64Index: 40627 entries, 9 to 83438\n",
      "Data columns (total 4 columns):\n",
      " #   Column        Non-Null Count  Dtype  \n",
      "---  ------        --------------  -----  \n",
      " 0   Country       40627 non-null  object \n",
      " 1   EdLevel       40608 non-null  object \n",
      " 2   YearsCodePro  40228 non-null  object \n",
      " 3   Salary        40627 non-null  float64\n",
      "dtypes: float64(1), object(3)\n",
      "memory usage: 1.5+ MB\n"
     ]
    }
   ],
   "source": [
    "# Only keep full-time employment row entries, then delete the employment column.\n",
    "df = df[df['Employment'] == 'Employed full-time']\n",
    "df = df.drop('Employment', axis = 1)\n",
    "df.info()"
   ]
  },
  {
   "cell_type": "code",
   "execution_count": 7,
   "id": "d8315da4",
   "metadata": {},
   "outputs": [
    {
     "data": {
      "text/plain": [
       "Country         0\n",
       "EdLevel         0\n",
       "YearsCodePro    0\n",
       "Salary          0\n",
       "dtype: int64"
      ]
     },
     "execution_count": 7,
     "metadata": {},
     "output_type": "execute_result"
    }
   ],
   "source": [
    "# Drop all row entries that contain any null values.\n",
    "df = df.dropna()\n",
    "df.isnull().sum()"
   ]
  },
  {
   "cell_type": "code",
   "execution_count": 8,
   "id": "d3f59534",
   "metadata": {},
   "outputs": [
    {
     "name": "stdout",
     "output_type": "stream",
     "text": [
      "<class 'pandas.core.frame.DataFrame'>\n",
      "Int64Index: 40211 entries, 9 to 83438\n",
      "Data columns (total 4 columns):\n",
      " #   Column        Non-Null Count  Dtype  \n",
      "---  ------        --------------  -----  \n",
      " 0   Country       40211 non-null  object \n",
      " 1   EdLevel       40211 non-null  object \n",
      " 2   YearsCodePro  40211 non-null  object \n",
      " 3   Salary        40211 non-null  float64\n",
      "dtypes: float64(1), object(3)\n",
      "memory usage: 1.5+ MB\n"
     ]
    }
   ],
   "source": [
    "# Check to ensure a delta in overall count after removing null values.\n",
    "df.info()"
   ]
  },
  {
   "cell_type": "code",
   "execution_count": 9,
   "id": "5c7d8f19",
   "metadata": {},
   "outputs": [
    {
     "data": {
      "text/plain": [
       "United States of America                                9175\n",
       "India                                                   3385\n",
       "Germany                                                 2753\n",
       "United Kingdom of Great Britain and Northern Ireland    2604\n",
       "Canada                                                  1553\n",
       "                                                        ... \n",
       "Saint Kitts and Nevis                                      1\n",
       "Monaco                                                     1\n",
       "Libyan Arab Jamahiriya                                     1\n",
       "Somalia                                                    1\n",
       "Burundi                                                    1\n",
       "Name: Country, Length: 166, dtype: int64"
      ]
     },
     "execution_count": 9,
     "metadata": {},
     "output_type": "execute_result"
    }
   ],
   "source": [
    "# Find the number of entries per country so that the countries without enough data can be removed.\n",
    "df['Country'].value_counts()"
   ]
  },
  {
   "cell_type": "code",
   "execution_count": 10,
   "id": "5162a581",
   "metadata": {},
   "outputs": [],
   "source": [
    "# Creates a minimun cutoff, so that anything below minimum is moved to \"Other\" group.\n",
    "def clean_countries(countries, minimum):\n",
    "    country = {}\n",
    "    for i in range(len(countries)):\n",
    "        if countries.values[i] >= minimum:\n",
    "            country[countries.index[i]] = countries.index[i]\n",
    "        else:\n",
    "            country[countries.index[i]] = 'Other'\n",
    "    return country"
   ]
  },
  {
   "cell_type": "code",
   "execution_count": 11,
   "id": "29ee80ad",
   "metadata": {
    "scrolled": false
   },
   "outputs": [
    {
     "data": {
      "text/plain": [
       "Other                                                   12448\n",
       "United States of America                                 9175\n",
       "India                                                    3385\n",
       "Germany                                                  2753\n",
       "United Kingdom of Great Britain and Northern Ireland     2604\n",
       "Canada                                                   1553\n",
       "France                                                   1396\n",
       "Brazil                                                   1340\n",
       "Spain                                                     890\n",
       "Netherlands                                               835\n",
       "Australia                                                 825\n",
       "Poland                                                    775\n",
       "Italy                                                     756\n",
       "Russian Federation                                        741\n",
       "Sweden                                                    735\n",
       "Name: Country, dtype: int64"
      ]
     },
     "execution_count": 11,
     "metadata": {},
     "output_type": "execute_result"
    }
   ],
   "source": [
    "# Call the above method to only keep the countries with entries above 500, and move the countries below 300 to \"Other\".\n",
    "country_mapping = clean_countries(df.Country.value_counts(), 500)\n",
    "df['Country'] = df['Country'].map(country_mapping)\n",
    "df.Country.value_counts()"
   ]
  },
  {
   "cell_type": "code",
   "execution_count": 12,
   "id": "1f0c1ee1",
   "metadata": {
    "scrolled": true
   },
   "outputs": [
    {
     "data": {
      "image/png": "[encoded data removed]",
      "text/plain": [
       "<Figure size 1080x504 with 1 Axes>"
      ]
     },
     "metadata": {
      "needs_background": "light"
     },
     "output_type": "display_data"
    }
   ],
   "source": [
    "# Create box plot with the filtered salary data by country of residence.\n",
    "fig, ax = plt.subplots(1, 1, figsize = (15,7))\n",
    "df.boxplot('Salary', 'Country', ax=ax)\n",
    "plt.suptitle('Salary in US$ by Country')\n",
    "plt.title('')\n",
    "plt.ylabel('Salary')\n",
    "plt.xticks(rotation = 90)\n",
    "plt.show()"
   ]
  },
  {
   "cell_type": "code",
   "execution_count": 13,
   "id": "7cdd2d78",
   "metadata": {},
   "outputs": [
    {
     "data": {
      "text/plain": [
       "(40211, 4)"
      ]
     },
     "execution_count": 13,
     "metadata": {},
     "output_type": "execute_result"
    }
   ],
   "source": [
    "df.shape"
   ]
  },
  {
   "cell_type": "code",
   "execution_count": 14,
   "id": "0bb6dcc8",
   "metadata": {},
   "outputs": [
    {
     "data": {
      "text/html": [
       "<div>\n",
       "<style scoped>\n",
       "    .dataframe tbody tr th:only-of-type {\n",
       "        vertical-align: middle;\n",
       "    }\n",
       "\n",
       "    .dataframe tbody tr th {\n",
       "        vertical-align: top;\n",
       "    }\n",
       "\n",
       "    .dataframe thead th {\n",
       "        text-align: right;\n",
       "    }\n",
       "</style>\n",
       "<table border=\"1\" class=\"dataframe\">\n",
       "  <thead>\n",
       "    <tr style=\"text-align: right;\">\n",
       "      <th></th>\n",
       "      <th>Salary</th>\n",
       "    </tr>\n",
       "  </thead>\n",
       "  <tbody>\n",
       "    <tr>\n",
       "      <th>count</th>\n",
       "      <td>4.021100e+04</td>\n",
       "    </tr>\n",
       "    <tr>\n",
       "      <th>mean</th>\n",
       "      <td>1.215537e+05</td>\n",
       "    </tr>\n",
       "    <tr>\n",
       "      <th>std</th>\n",
       "      <td>4.997584e+05</td>\n",
       "    </tr>\n",
       "    <tr>\n",
       "      <th>min</th>\n",
       "      <td>1.000000e+00</td>\n",
       "    </tr>\n",
       "    <tr>\n",
       "      <th>25%</th>\n",
       "      <td>2.853600e+04</td>\n",
       "    </tr>\n",
       "    <tr>\n",
       "      <th>50%</th>\n",
       "      <td>5.816700e+04</td>\n",
       "    </tr>\n",
       "    <tr>\n",
       "      <th>75%</th>\n",
       "      <td>1.000000e+05</td>\n",
       "    </tr>\n",
       "    <tr>\n",
       "      <th>max</th>\n",
       "      <td>3.046852e+07</td>\n",
       "    </tr>\n",
       "  </tbody>\n",
       "</table>\n",
       "</div>"
      ],
      "text/plain": [
       "             Salary\n",
       "count  4.021100e+04\n",
       "mean   1.215537e+05\n",
       "std    4.997584e+05\n",
       "min    1.000000e+00\n",
       "25%    2.853600e+04\n",
       "50%    5.816700e+04\n",
       "75%    1.000000e+05\n",
       "max    3.046852e+07"
      ]
     },
     "execution_count": 14,
     "metadata": {},
     "output_type": "execute_result"
    }
   ],
   "source": [
    "df.describe()"
   ]
  },
  {
   "cell_type": "code",
   "execution_count": 15,
   "id": "c41f8629",
   "metadata": {},
   "outputs": [],
   "source": [
    "# Remove \"other\" category because data is too volatile.\n",
    "df = df[df['Country'] != 'Other']"
   ]
  },
  {
   "cell_type": "code",
   "execution_count": 16,
   "id": "df4e16fc",
   "metadata": {},
   "outputs": [
    {
     "data": {
      "text/plain": [
       "array(['4', '5', '6', '2', '18', '21', '16', '10', 'Less than 1 year',\n",
       "       '15', '3', '12', '8', '17', '1', '14', '7', '34', '11', '25', '24',\n",
       "       '22', '13', '9', '26', '39', '20', '27', '23', '35', '30', '19',\n",
       "       '33', '37', '43', '40', '29', '38', '31', '45', '42', '28', '46',\n",
       "       '32', '36', '47', '44', '41', 'More than 50 years', '50', '49',\n",
       "       '48'], dtype=object)"
      ]
     },
     "execution_count": 16,
     "metadata": {},
     "output_type": "execute_result"
    }
   ],
   "source": [
    "# Find unique entries concerning years of professional experience.\n",
    "df['YearsCodePro'].unique()"
   ]
  },
  {
   "cell_type": "code",
   "execution_count": 17,
   "id": "fb514210",
   "metadata": {},
   "outputs": [],
   "source": [
    "# Method to change \"More than 50 years\" & \"Less than 1 year\" to 50 to represent 50 or above and 0.5 to represent less than 1 year.\n",
    "def clean_work_experience(e):\n",
    "    if e == 'More than 50 years':\n",
    "        return 50\n",
    "    if e == 'Less than 1 year':\n",
    "        return 0.5\n",
    "    return float(e)\n",
    "\n",
    "df['YearsCodePro'] = df['YearsCodePro'].apply(clean_work_experience)"
   ]
  },
  {
   "cell_type": "code",
   "execution_count": 18,
   "id": "367e1a3a",
   "metadata": {},
   "outputs": [
    {
     "data": {
      "text/plain": [
       "array([ 4. ,  5. ,  6. ,  2. , 18. , 21. , 16. , 10. ,  0.5, 15. ,  3. ,\n",
       "       12. ,  8. , 17. ,  1. , 14. ,  7. , 34. , 11. , 25. , 24. , 22. ,\n",
       "       13. ,  9. , 26. , 39. , 20. , 27. , 23. , 35. , 30. , 19. , 33. ,\n",
       "       37. , 43. , 40. , 29. , 38. , 31. , 45. , 42. , 28. , 46. , 32. ,\n",
       "       36. , 47. , 44. , 41. , 50. , 49. , 48. ])"
      ]
     },
     "execution_count": 18,
     "metadata": {},
     "output_type": "execute_result"
    }
   ],
   "source": [
    "# Check that experience entries have been altered.\n",
    "df['YearsCodePro'].unique()"
   ]
  },
  {
   "cell_type": "code",
   "execution_count": 19,
   "id": "971870fc",
   "metadata": {},
   "outputs": [],
   "source": [
    "# Creates a maximum cutoff for years of experience.\n",
    "df = df[df['YearsCodePro'] < 11]"
   ]
  },
  {
   "cell_type": "code",
   "execution_count": 20,
   "id": "d7c4c2b8",
   "metadata": {},
   "outputs": [
    {
     "data": {
      "text/plain": [
       "array([ 4. ,  5. ,  6. ,  2. , 10. ,  0.5,  3. ,  8. ,  1. ,  7. ,  9. ])"
      ]
     },
     "execution_count": 20,
     "metadata": {},
     "output_type": "execute_result"
    }
   ],
   "source": [
    "df['YearsCodePro'].unique()"
   ]
  },
  {
   "cell_type": "code",
   "execution_count": 21,
   "id": "7da8e973",
   "metadata": {},
   "outputs": [
    {
     "data": {
      "text/plain": [
       "array(['Master’s degree (M.A., M.S., M.Eng., MBA, etc.)',\n",
       "       'Bachelor’s degree (B.A., B.S., B.Eng., etc.)',\n",
       "       'Professional degree (JD, MD, etc.)',\n",
       "       'Some college/university study without earning a degree',\n",
       "       'Other doctoral degree (Ph.D., Ed.D., etc.)',\n",
       "       'Primary/elementary school', 'Associate degree (A.A., A.S., etc.)',\n",
       "       'Something else',\n",
       "       'Secondary school (e.g. American high school, German Realschule or Gymnasium, etc.)'],\n",
       "      dtype=object)"
      ]
     },
     "execution_count": 21,
     "metadata": {},
     "output_type": "execute_result"
    }
   ],
   "source": [
    "# Find unique education entries.\n",
    "df['EdLevel'].unique()"
   ]
  },
  {
   "cell_type": "code",
   "execution_count": 22,
   "id": "923227b9",
   "metadata": {},
   "outputs": [],
   "source": [
    "# Method that further sorts the education level into 4 primary categories.\n",
    "def clean_education_level(x):\n",
    "    if 'Bachelor' in x:\n",
    "        return \"Bachelor's Degree\"\n",
    "    if 'Master' in x:\n",
    "        return \"Master's Degree\"\n",
    "    if 'Other doctoral' in x or 'Professional degree' in x:\n",
    "        return \"Post Graduate Degree\"\n",
    "    else:\n",
    "        return \"Less than Bachelor's Degree\"\n",
    "\n",
    "df['EdLevel'] = df['EdLevel'].apply(clean_education_level)"
   ]
  },
  {
   "cell_type": "code",
   "execution_count": 23,
   "id": "feaae516",
   "metadata": {},
   "outputs": [
    {
     "data": {
      "text/plain": [
       "array([\"Master's Degree\", \"Bachelor's Degree\", 'Post Graduate Degree',\n",
       "       \"Less than Bachelor's Degree\"], dtype=object)"
      ]
     },
     "execution_count": 23,
     "metadata": {},
     "output_type": "execute_result"
    }
   ],
   "source": [
    "# Check changes.\n",
    "df['EdLevel'].unique()"
   ]
  },
  {
   "cell_type": "code",
   "execution_count": 24,
   "id": "4d3849f4",
   "metadata": {},
   "outputs": [],
   "source": [
    "# Create a min and max salary range to remove outliers.\n",
    "df = df[df['Salary'] >= 500]\n",
    "df = df[df['Salary'] <= 200000]"
   ]
  },
  {
   "cell_type": "code",
   "execution_count": 25,
   "id": "eafd16d1",
   "metadata": {},
   "outputs": [],
   "source": [
    "# Cleaning the entire dataset did not yield results needed. Split data by country into new .csv files.\n",
    "for (Country), group in df.groupby(['Country']):\n",
    "    group.to_csv(f'{Country}.csv', index = False)"
   ]
  },
  {
   "cell_type": "code",
   "execution_count": 26,
   "id": "7aa4bbb6",
   "metadata": {},
   "outputs": [],
   "source": [
    "# Read country csv and assign to new dataframe.\n",
    "df_Australia = pd.read_csv('Australia.csv')\n",
    "df_Australia = df_Australia[df_Australia['Salary'] <= 500000]"
   ]
  },
  {
   "cell_type": "code",
   "execution_count": 27,
   "id": "13f76779",
   "metadata": {
    "scrolled": true
   },
   "outputs": [
    {
     "data": {
      "image/png": "[encoded data removed]",
      "text/plain": [
       "<Figure size 1080x504 with 1 Axes>"
      ]
     },
     "metadata": {
      "needs_background": "light"
     },
     "output_type": "display_data"
    }
   ],
   "source": [
    "# Create box plot with the filtered salary data by country of residence.\n",
    "fig, ax = plt.subplots(1, 1, figsize = (15,7))\n",
    "df_Australia.boxplot('Salary', 'Country', ax=ax)\n",
    "plt.suptitle('Salary in US$ by Country')\n",
    "plt.title('')\n",
    "plt.ylabel('Salary')\n",
    "plt.xticks(rotation = 90)\n",
    "plt.show()"
   ]
  },
  {
   "cell_type": "code",
   "execution_count": 28,
   "id": "dc61a193",
   "metadata": {},
   "outputs": [
    {
     "data": {
      "text/plain": [
       "(440, 4)"
      ]
     },
     "execution_count": 28,
     "metadata": {},
     "output_type": "execute_result"
    }
   ],
   "source": [
    "df_Australia.shape"
   ]
  },
  {
   "cell_type": "code",
   "execution_count": 29,
   "id": "61708e30",
   "metadata": {},
   "outputs": [
    {
     "name": "stderr",
     "output_type": "stream",
     "text": [
      "/var/folders/rq/nn_4svg107d6nzx2v6dc9s9c0000gn/T/ipykernel_44414/4027253572.py:11: FutureWarning: Automatic reindexing on DataFrame vs Series comparisons is deprecated and will raise ValueError in a future version. Do `left, right = left.align(right, axis=1, copy=False)` before e.g. `left == right`\n",
      "  df_Australia = df_Australia[~((df_Australia < (Q1 - 1.5 * IQR)) | (df_Australia > (Q3 + 1.5 * IQR))).any(axis = 1)]\n"
     ]
    }
   ],
   "source": [
    "# Interquartile range to remove outliers.\n",
    "Q1 = df_Australia.quantile(0.25)\n",
    "Q3 = df_Australia.quantile(0.75)\n",
    "IQR = Q3 - Q1\n",
    "#print(IQR)\n",
    " \n",
    "# Print the outliers.\n",
    "# print(df < (Q1 - 1.5 * IQR)) | (df > (Q3 + 1.5 * IQR))\n",
    "\n",
    "# Remove all outliers and show the number by using \"shape\" to compare to \"shape\" before this action.\n",
    "df_Australia = df_Australia[~((df_Australia < (Q1 - 1.5 * IQR)) | (df_Australia > (Q3 + 1.5 * IQR))).any(axis = 1)]\n"
   ]
  },
  {
   "cell_type": "code",
   "execution_count": 30,
   "id": "a0a7e08b",
   "metadata": {},
   "outputs": [
    {
     "data": {
      "text/plain": [
       "(429, 4)"
      ]
     },
     "execution_count": 30,
     "metadata": {},
     "output_type": "execute_result"
    }
   ],
   "source": [
    "# Check to see if outliers are removed.\n",
    "df_Australia.shape"
   ]
  },
  {
   "cell_type": "code",
   "execution_count": 31,
   "id": "e5ebfac3",
   "metadata": {},
   "outputs": [],
   "source": [
    "# Read country csv and assign to new dataframe.\n",
    "df_Brazil = pd.read_csv('Brazil.csv')\n",
    "df_Brazil = df_Brazil[df_Brazil['Salary'] <= 500000]"
   ]
  },
  {
   "cell_type": "code",
   "execution_count": 32,
   "id": "27f2d5fd",
   "metadata": {
    "scrolled": true
   },
   "outputs": [
    {
     "data": {
      "image/png": "[encoded data removed]",
      "text/plain": [
       "<Figure size 1080x504 with 1 Axes>"
      ]
     },
     "metadata": {
      "needs_background": "light"
     },
     "output_type": "display_data"
    }
   ],
   "source": [
    "# Create box plot with the filtered salary data by country of residence.\n",
    "fig, ax = plt.subplots(1, 1, figsize = (15,7))\n",
    "df_Brazil.boxplot('Salary', 'Country', ax=ax)\n",
    "plt.suptitle('Salary in US$ by Country')\n",
    "plt.title('')\n",
    "plt.ylabel('Salary')\n",
    "plt.xticks(rotation = 90)\n",
    "plt.show()"
   ]
  },
  {
   "cell_type": "code",
   "execution_count": 33,
   "id": "55120660",
   "metadata": {},
   "outputs": [
    {
     "data": {
      "text/plain": [
       "(963, 4)"
      ]
     },
     "execution_count": 33,
     "metadata": {},
     "output_type": "execute_result"
    }
   ],
   "source": [
    "df_Brazil.shape"
   ]
  },
  {
   "cell_type": "code",
   "execution_count": 34,
   "id": "4f2646d4",
   "metadata": {},
   "outputs": [
    {
     "name": "stderr",
     "output_type": "stream",
     "text": [
      "/var/folders/rq/nn_4svg107d6nzx2v6dc9s9c0000gn/T/ipykernel_44414/3084006633.py:11: FutureWarning: Automatic reindexing on DataFrame vs Series comparisons is deprecated and will raise ValueError in a future version. Do `left, right = left.align(right, axis=1, copy=False)` before e.g. `left == right`\n",
      "  df_Brazil = df_Brazil[~((df_Brazil < (Q1 - 1.5 * IQR)) | (df_Brazil > (Q3 + 1.5 * IQR))).any(axis = 1)]\n"
     ]
    }
   ],
   "source": [
    "# Interquartile range to remove outliers.\n",
    "Q1 = df_Brazil.quantile(0.25)\n",
    "Q3 = df_Brazil.quantile(0.75)\n",
    "IQR = Q3 - Q1\n",
    "#print(IQR)\n",
    " \n",
    "# Print the outliers.\n",
    "# print(df < (Q1 - 1.5 * IQR)) | (df > (Q3 + 1.5 * IQR))\n",
    "\n",
    "# Remove all outliers and show the number by using \"shape\" to compare to \"shape\" before this action.\n",
    "df_Brazil = df_Brazil[~((df_Brazil < (Q1 - 1.5 * IQR)) | (df_Brazil > (Q3 + 1.5 * IQR))).any(axis = 1)]\n"
   ]
  },
  {
   "cell_type": "code",
   "execution_count": 35,
   "id": "d87827e7",
   "metadata": {},
   "outputs": [
    {
     "data": {
      "text/plain": [
       "(900, 4)"
      ]
     },
     "execution_count": 35,
     "metadata": {},
     "output_type": "execute_result"
    }
   ],
   "source": [
    "# Check to see if outliers are removed.\n",
    "df_Brazil.shape"
   ]
  },
  {
   "cell_type": "code",
   "execution_count": 36,
   "id": "ac028cbf",
   "metadata": {},
   "outputs": [],
   "source": [
    "# Read country csv and assign to new dataframe.\n",
    "df_Canada = pd.read_csv('Canada.csv')\n",
    "df_Canada = df_Canada[df_Canada['Salary'] <= 500000]"
   ]
  },
  {
   "cell_type": "code",
   "execution_count": 37,
   "id": "5185873d",
   "metadata": {
    "scrolled": true
   },
   "outputs": [
    {
     "data": {
      "image/png": "[encoded data removed]",
      "text/plain": [
       "<Figure size 1080x504 with 1 Axes>"
      ]
     },
     "metadata": {
      "needs_background": "light"
     },
     "output_type": "display_data"
    }
   ],
   "source": [
    "# Create box plot with the filtered salary data by country of residence.\n",
    "fig, ax = plt.subplots(1, 1, figsize = (15,7))\n",
    "df_Canada.boxplot('Salary', 'Country', ax=ax)\n",
    "plt.suptitle('Salary in US$ by Country')\n",
    "plt.title('')\n",
    "plt.ylabel('Salary')\n",
    "plt.xticks(rotation = 90)\n",
    "plt.show()"
   ]
  },
  {
   "cell_type": "code",
   "execution_count": 38,
   "id": "f84467af",
   "metadata": {},
   "outputs": [
    {
     "data": {
      "text/plain": [
       "(1001, 4)"
      ]
     },
     "execution_count": 38,
     "metadata": {},
     "output_type": "execute_result"
    }
   ],
   "source": [
    "df_Canada.shape"
   ]
  },
  {
   "cell_type": "code",
   "execution_count": 39,
   "id": "f7cfa59a",
   "metadata": {},
   "outputs": [
    {
     "name": "stderr",
     "output_type": "stream",
     "text": [
      "/var/folders/rq/nn_4svg107d6nzx2v6dc9s9c0000gn/T/ipykernel_44414/2318346424.py:11: FutureWarning: Automatic reindexing on DataFrame vs Series comparisons is deprecated and will raise ValueError in a future version. Do `left, right = left.align(right, axis=1, copy=False)` before e.g. `left == right`\n",
      "  df_Canada = df_Canada[~((df_Canada < (Q1 - 1.5 * IQR)) | (df_Canada > (Q3 + 1.5 * IQR))).any(axis = 1)]\n"
     ]
    }
   ],
   "source": [
    "# Interquartile range to remove outliers.\n",
    "Q1 = df_Canada.quantile(0.25)\n",
    "Q3 = df_Canada.quantile(0.75)\n",
    "IQR = Q3 - Q1\n",
    "#print(IQR)\n",
    " \n",
    "# Print the outliers.\n",
    "# print(df < (Q1 - 1.5 * IQR)) | (df > (Q3 + 1.5 * IQR))\n",
    "\n",
    "# Remove all outliers and show the number by using \"shape\" to compare to \"shape\" before this action.\n",
    "df_Canada = df_Canada[~((df_Canada < (Q1 - 1.5 * IQR)) | (df_Canada > (Q3 + 1.5 * IQR))).any(axis = 1)]\n"
   ]
  },
  {
   "cell_type": "code",
   "execution_count": 40,
   "id": "305099ff",
   "metadata": {},
   "outputs": [
    {
     "data": {
      "text/plain": [
       "(969, 4)"
      ]
     },
     "execution_count": 40,
     "metadata": {},
     "output_type": "execute_result"
    }
   ],
   "source": [
    "# Check.\n",
    "df_Canada.shape"
   ]
  },
  {
   "cell_type": "code",
   "execution_count": 41,
   "id": "e6ad9442",
   "metadata": {},
   "outputs": [],
   "source": [
    "# Read country csv and assign to new dataframe.\n",
    "df_France = pd.read_csv('France.csv')\n",
    "df_France = df_France[df_France['Salary'] <= 500000]"
   ]
  },
  {
   "cell_type": "code",
   "execution_count": 42,
   "id": "3f5ec4be",
   "metadata": {
    "scrolled": true
   },
   "outputs": [
    {
     "data": {
      "image/png": "[encoded data removed]",
      "text/plain": [
       "<Figure size 1080x504 with 1 Axes>"
      ]
     },
     "metadata": {
      "needs_background": "light"
     },
     "output_type": "display_data"
    }
   ],
   "source": [
    "# Create box plot with the filtered salary data by country of residence.\n",
    "fig, ax = plt.subplots(1, 1, figsize = (15,7))\n",
    "df_France.boxplot('Salary', 'Country', ax=ax)\n",
    "plt.suptitle('Salary in US$ by Country')\n",
    "plt.title('')\n",
    "plt.ylabel('Salary')\n",
    "plt.xticks(rotation = 90)\n",
    "plt.show()"
   ]
  },
  {
   "cell_type": "code",
   "execution_count": 43,
   "id": "18a58c0b",
   "metadata": {},
   "outputs": [
    {
     "data": {
      "text/plain": [
       "(945, 4)"
      ]
     },
     "execution_count": 43,
     "metadata": {},
     "output_type": "execute_result"
    }
   ],
   "source": [
    "df_France.shape"
   ]
  },
  {
   "cell_type": "code",
   "execution_count": 44,
   "id": "f2b55eb1",
   "metadata": {},
   "outputs": [
    {
     "name": "stderr",
     "output_type": "stream",
     "text": [
      "/var/folders/rq/nn_4svg107d6nzx2v6dc9s9c0000gn/T/ipykernel_44414/1873339634.py:11: FutureWarning: Automatic reindexing on DataFrame vs Series comparisons is deprecated and will raise ValueError in a future version. Do `left, right = left.align(right, axis=1, copy=False)` before e.g. `left == right`\n",
      "  df_France = df_France[~((df_France < (Q1 - 1.5 * IQR)) | (df_France > (Q3 + 1.5 * IQR))).any(axis = 1)]\n"
     ]
    }
   ],
   "source": [
    "# Interquartile range to remove outliers.\n",
    "Q1 = df_France.quantile(0.25)\n",
    "Q3 = df_France.quantile(0.75)\n",
    "IQR = Q3 - Q1\n",
    "#print(IQR)\n",
    " \n",
    "# Print the outliers.\n",
    "# print(df < (Q1 - 1.5 * IQR)) | (df > (Q3 + 1.5 * IQR))\n",
    "\n",
    "# Remove all outliers and show the number by using \"shape\" to compare to \"shape\" before this action.\n",
    "df_France = df_France[~((df_France < (Q1 - 1.5 * IQR)) | (df_France > (Q3 + 1.5 * IQR))).any(axis = 1)]\n"
   ]
  },
  {
   "cell_type": "code",
   "execution_count": 45,
   "id": "5b3c5bc3",
   "metadata": {},
   "outputs": [
    {
     "data": {
      "text/plain": [
       "(897, 4)"
      ]
     },
     "execution_count": 45,
     "metadata": {},
     "output_type": "execute_result"
    }
   ],
   "source": [
    "# Check.\n",
    "df_France.shape"
   ]
  },
  {
   "cell_type": "code",
   "execution_count": 46,
   "id": "61df3feb",
   "metadata": {},
   "outputs": [],
   "source": [
    "# Read country csv and assign to new dataframe.\n",
    "df_Germany = pd.read_csv('Germany.csv')\n",
    "df_Germany = df_Germany[df_Germany['Salary'] <= 500000]"
   ]
  },
  {
   "cell_type": "code",
   "execution_count": 47,
   "id": "b049c845",
   "metadata": {
    "scrolled": true
   },
   "outputs": [
    {
     "data": {
      "image/png": "[encoded data removed]",
      "text/plain": [
       "<Figure size 1080x504 with 1 Axes>"
      ]
     },
     "metadata": {
      "needs_background": "light"
     },
     "output_type": "display_data"
    }
   ],
   "source": [
    "# Create box plot with the filtered salary data by country of residence.\n",
    "fig, ax = plt.subplots(1, 1, figsize = (15,7))\n",
    "df_Germany.boxplot('Salary', 'Country', ax=ax)\n",
    "plt.suptitle('Salary in US$ by Country')\n",
    "plt.title('')\n",
    "plt.ylabel('Salary')\n",
    "plt.xticks(rotation = 90)\n",
    "plt.show()"
   ]
  },
  {
   "cell_type": "code",
   "execution_count": 48,
   "id": "96221fca",
   "metadata": {},
   "outputs": [
    {
     "data": {
      "text/plain": [
       "(1786, 4)"
      ]
     },
     "execution_count": 48,
     "metadata": {},
     "output_type": "execute_result"
    }
   ],
   "source": [
    "df_Germany.shape"
   ]
  },
  {
   "cell_type": "code",
   "execution_count": 49,
   "id": "db433755",
   "metadata": {},
   "outputs": [
    {
     "name": "stderr",
     "output_type": "stream",
     "text": [
      "/var/folders/rq/nn_4svg107d6nzx2v6dc9s9c0000gn/T/ipykernel_44414/675246503.py:11: FutureWarning: Automatic reindexing on DataFrame vs Series comparisons is deprecated and will raise ValueError in a future version. Do `left, right = left.align(right, axis=1, copy=False)` before e.g. `left == right`\n",
      "  df_Germany = df_Germany[~((df_Germany < (Q1 - 1.5 * IQR)) | (df_Germany > (Q3 + 1.5 * IQR))).any(axis = 1)]\n"
     ]
    }
   ],
   "source": [
    "# Interquartile range to remove outliers.\n",
    "Q1 = df_Germany.quantile(0.25)\n",
    "Q3 = df_Germany.quantile(0.75)\n",
    "IQR = Q3 - Q1\n",
    "#print(IQR)\n",
    " \n",
    "# Print the outliers.\n",
    "# print(df < (Q1 - 1.5 * IQR)) | (df > (Q3 + 1.5 * IQR))\n",
    "\n",
    "# Remove all outliers and show the number by using \"shape\" to compare to \"shape\" before this action.\n",
    "df_Germany = df_Germany[~((df_Germany < (Q1 - 1.5 * IQR)) | (df_Germany > (Q3 + 1.5 * IQR))).any(axis = 1)]\n"
   ]
  },
  {
   "cell_type": "code",
   "execution_count": 50,
   "id": "effd112b",
   "metadata": {},
   "outputs": [
    {
     "data": {
      "text/plain": [
       "(1736, 4)"
      ]
     },
     "execution_count": 50,
     "metadata": {},
     "output_type": "execute_result"
    }
   ],
   "source": [
    "# Check.\n",
    "df_Germany.shape"
   ]
  },
  {
   "cell_type": "code",
   "execution_count": 51,
   "id": "9d0a9ee2",
   "metadata": {},
   "outputs": [],
   "source": [
    "# Read country csv and assign to new dataframe.\n",
    "df_India = pd.read_csv('India.csv')\n",
    "df_India = df_India[df_India['Salary'] <= 500000]"
   ]
  },
  {
   "cell_type": "code",
   "execution_count": 52,
   "id": "75bed529",
   "metadata": {
    "scrolled": true
   },
   "outputs": [
    {
     "data": {
      "image/png": "[encoded data removed]",
      "text/plain": [
       "<Figure size 1080x504 with 1 Axes>"
      ]
     },
     "metadata": {
      "needs_background": "light"
     },
     "output_type": "display_data"
    }
   ],
   "source": [
    "# Create box plot with the filtered salary data by country of residence.\n",
    "fig, ax = plt.subplots(1, 1, figsize = (15,7))\n",
    "df_India.boxplot('Salary', 'Country', ax=ax)\n",
    "plt.suptitle('Salary in US$ by Country')\n",
    "plt.title('')\n",
    "plt.ylabel('Salary')\n",
    "plt.xticks(rotation = 90)\n",
    "plt.show()"
   ]
  },
  {
   "cell_type": "code",
   "execution_count": 53,
   "id": "8d831016",
   "metadata": {},
   "outputs": [
    {
     "data": {
      "text/plain": [
       "(3005, 4)"
      ]
     },
     "execution_count": 53,
     "metadata": {},
     "output_type": "execute_result"
    }
   ],
   "source": [
    "df_India.shape"
   ]
  },
  {
   "cell_type": "code",
   "execution_count": 54,
   "id": "d6e0fc7f",
   "metadata": {},
   "outputs": [
    {
     "name": "stderr",
     "output_type": "stream",
     "text": [
      "/var/folders/rq/nn_4svg107d6nzx2v6dc9s9c0000gn/T/ipykernel_44414/2053874570.py:11: FutureWarning: Automatic reindexing on DataFrame vs Series comparisons is deprecated and will raise ValueError in a future version. Do `left, right = left.align(right, axis=1, copy=False)` before e.g. `left == right`\n",
      "  df_India = df_India[~((df_India < (Q1 - 1.5 * IQR)) | (df_India > (Q3 + 1.5 * IQR))).any(axis = 1)]\n"
     ]
    }
   ],
   "source": [
    "# Interquartile range to remove outliers.\n",
    "Q1 = df_India.quantile(0.25)\n",
    "Q3 = df_India.quantile(0.75)\n",
    "IQR = Q3 - Q1\n",
    "#print(IQR)\n",
    " \n",
    "# Print the outliers.\n",
    "# print(df < (Q1 - 1.5 * IQR)) | (df > (Q3 + 1.5 * IQR))\n",
    "\n",
    "# Remove all outliers and show the number by using \"shape\" to compare to \"shape\" before this action.\n",
    "df_India = df_India[~((df_India < (Q1 - 1.5 * IQR)) | (df_India > (Q3 + 1.5 * IQR))).any(axis = 1)]\n"
   ]
  },
  {
   "cell_type": "code",
   "execution_count": 55,
   "id": "8d529d32",
   "metadata": {},
   "outputs": [
    {
     "data": {
      "text/plain": [
       "(2806, 4)"
      ]
     },
     "execution_count": 55,
     "metadata": {},
     "output_type": "execute_result"
    }
   ],
   "source": [
    "# Check.\n",
    "df_India.shape"
   ]
  },
  {
   "cell_type": "code",
   "execution_count": 56,
   "id": "a06a7341",
   "metadata": {},
   "outputs": [],
   "source": [
    "# Read country csv and assign to new dataframe.\n",
    "df_Italy = pd.read_csv('Italy.csv')\n",
    "df_Italy = df_Italy[df_Italy['Salary'] <= 500000]"
   ]
  },
  {
   "cell_type": "code",
   "execution_count": 57,
   "id": "f24f31b0",
   "metadata": {
    "scrolled": true
   },
   "outputs": [
    {
     "data": {
      "image/png": "[encoded data removed]",
      "text/plain": [
       "<Figure size 1080x504 with 1 Axes>"
      ]
     },
     "metadata": {
      "needs_background": "light"
     },
     "output_type": "display_data"
    }
   ],
   "source": [
    "# Create box plot with the filtered salary data by country of residence.\n",
    "fig, ax = plt.subplots(1, 1, figsize = (15,7))\n",
    "df_Italy.boxplot('Salary', 'Country', ax=ax)\n",
    "plt.suptitle('Salary in US$ by Country')\n",
    "plt.title('')\n",
    "plt.ylabel('Salary')\n",
    "plt.xticks(rotation = 90)\n",
    "plt.show()"
   ]
  },
  {
   "cell_type": "code",
   "execution_count": 58,
   "id": "d5611ddb",
   "metadata": {},
   "outputs": [
    {
     "data": {
      "text/plain": [
       "(446, 4)"
      ]
     },
     "execution_count": 58,
     "metadata": {},
     "output_type": "execute_result"
    }
   ],
   "source": [
    "df_Italy.shape"
   ]
  },
  {
   "cell_type": "code",
   "execution_count": 59,
   "id": "fb3e4283",
   "metadata": {},
   "outputs": [
    {
     "name": "stderr",
     "output_type": "stream",
     "text": [
      "/var/folders/rq/nn_4svg107d6nzx2v6dc9s9c0000gn/T/ipykernel_44414/2364829045.py:11: FutureWarning: Automatic reindexing on DataFrame vs Series comparisons is deprecated and will raise ValueError in a future version. Do `left, right = left.align(right, axis=1, copy=False)` before e.g. `left == right`\n",
      "  df_Italy = df_Italy[~((df_Italy < (Q1 - 1.5 * IQR)) | (df_Italy > (Q3 + 1.5 * IQR))).any(axis = 1)]\n"
     ]
    }
   ],
   "source": [
    "# Interquartile range to remove outliers.\n",
    "Q1 = df_Italy.quantile(0.25)\n",
    "Q3 = df_Italy.quantile(0.75)\n",
    "IQR = Q3 - Q1\n",
    "#print(IQR)\n",
    " \n",
    "# Print the outliers.\n",
    "# print(df < (Q1 - 1.5 * IQR)) | (df > (Q3 + 1.5 * IQR))\n",
    "\n",
    "# Remove all outliers and show the number by using \"shape\" to compare to \"shape\" before this action.\n",
    "df_Italy = df_Italy[~((df_Italy < (Q1 - 1.5 * IQR)) | (df_Italy > (Q3 + 1.5 * IQR))).any(axis = 1)]\n"
   ]
  },
  {
   "cell_type": "code",
   "execution_count": 60,
   "id": "45534d53",
   "metadata": {},
   "outputs": [
    {
     "data": {
      "text/plain": [
       "(440, 4)"
      ]
     },
     "execution_count": 60,
     "metadata": {},
     "output_type": "execute_result"
    }
   ],
   "source": [
    "# Check.\n",
    "df_Italy.shape"
   ]
  },
  {
   "cell_type": "code",
   "execution_count": 61,
   "id": "78270d92",
   "metadata": {},
   "outputs": [],
   "source": [
    "# Read country csv and assign to new dataframe.\n",
    "df_Netherlands = pd.read_csv('Netherlands.csv')\n",
    "df_Netherlands = df_Netherlands[df_Netherlands['Salary'] <= 500000]"
   ]
  },
  {
   "cell_type": "code",
   "execution_count": 62,
   "id": "895e8134",
   "metadata": {
    "scrolled": true
   },
   "outputs": [
    {
     "data": {
      "image/png": "[encoded data removed]",
      "text/plain": [
       "<Figure size 1080x504 with 1 Axes>"
      ]
     },
     "metadata": {
      "needs_background": "light"
     },
     "output_type": "display_data"
    }
   ],
   "source": [
    "# Create box plot with the filtered salary data by country of residence.\n",
    "fig, ax = plt.subplots(1, 1, figsize = (15,7))\n",
    "df_Netherlands.boxplot('Salary', 'Country', ax=ax)\n",
    "plt.suptitle('Salary in US$ by Country')\n",
    "plt.title('')\n",
    "plt.ylabel('Salary')\n",
    "plt.xticks(rotation = 90)\n",
    "plt.show()"
   ]
  },
  {
   "cell_type": "code",
   "execution_count": 63,
   "id": "240aaee5",
   "metadata": {},
   "outputs": [
    {
     "data": {
      "text/plain": [
       "(529, 4)"
      ]
     },
     "execution_count": 63,
     "metadata": {},
     "output_type": "execute_result"
    }
   ],
   "source": [
    "df_Netherlands.shape"
   ]
  },
  {
   "cell_type": "code",
   "execution_count": 64,
   "id": "5bcda8bc",
   "metadata": {},
   "outputs": [
    {
     "name": "stderr",
     "output_type": "stream",
     "text": [
      "/var/folders/rq/nn_4svg107d6nzx2v6dc9s9c0000gn/T/ipykernel_44414/4192187504.py:11: FutureWarning: Automatic reindexing on DataFrame vs Series comparisons is deprecated and will raise ValueError in a future version. Do `left, right = left.align(right, axis=1, copy=False)` before e.g. `left == right`\n",
      "  df_Netherlands = df_Netherlands[~((df_Netherlands < (Q1 - 1.5 * IQR)) | (df_Netherlands > (Q3 + 1.5 * IQR))).any(axis = 1)]\n"
     ]
    }
   ],
   "source": [
    "# Interquartile range to remove outliers.\n",
    "Q1 = df_Netherlands.quantile(0.25)\n",
    "Q3 = df_Netherlands.quantile(0.75)\n",
    "IQR = Q3 - Q1\n",
    "#print(IQR)\n",
    " \n",
    "# Print the outliers.\n",
    "# print(df < (Q1 - 1.5 * IQR)) | (df > (Q3 + 1.5 * IQR))\n",
    "\n",
    "# Remove all outliers and show the number by using \"shape\" to compare to \"shape\" before this action.\n",
    "df_Netherlands = df_Netherlands[~((df_Netherlands < (Q1 - 1.5 * IQR)) | (df_Netherlands > (Q3 + 1.5 * IQR))).any(axis = 1)]\n"
   ]
  },
  {
   "cell_type": "code",
   "execution_count": 65,
   "id": "5e1412cc",
   "metadata": {},
   "outputs": [
    {
     "data": {
      "text/plain": [
       "(516, 4)"
      ]
     },
     "execution_count": 65,
     "metadata": {},
     "output_type": "execute_result"
    }
   ],
   "source": [
    "# Check.\n",
    "df_Netherlands.shape"
   ]
  },
  {
   "cell_type": "code",
   "execution_count": 66,
   "id": "cd98b60e",
   "metadata": {},
   "outputs": [],
   "source": [
    "# Read country csv and assign to new dataframe.\n",
    "df_Poland = pd.read_csv('Poland.csv')\n",
    "df_Poland = df_Poland[df_Poland['Salary'] <= 500000]"
   ]
  },
  {
   "cell_type": "code",
   "execution_count": 67,
   "id": "110d273a",
   "metadata": {
    "scrolled": true
   },
   "outputs": [
    {
     "data": {
      "image/png": "[encoded data removed]",
      "text/plain": [
       "<Figure size 1080x504 with 1 Axes>"
      ]
     },
     "metadata": {
      "needs_background": "light"
     },
     "output_type": "display_data"
    }
   ],
   "source": [
    "# Create box plot with the filtered salary data by country of residence.\n",
    "fig, ax = plt.subplots(1, 1, figsize = (15,7))\n",
    "df_Poland.boxplot('Salary', 'Country', ax=ax)\n",
    "plt.suptitle('Salary in US$ by Country')\n",
    "plt.title('')\n",
    "plt.ylabel('Salary')\n",
    "plt.xticks(rotation = 90)\n",
    "plt.show()"
   ]
  },
  {
   "cell_type": "code",
   "execution_count": 68,
   "id": "c5892e25",
   "metadata": {},
   "outputs": [
    {
     "data": {
      "text/plain": [
       "(625, 4)"
      ]
     },
     "execution_count": 68,
     "metadata": {},
     "output_type": "execute_result"
    }
   ],
   "source": [
    "df_Poland.shape"
   ]
  },
  {
   "cell_type": "code",
   "execution_count": 69,
   "id": "102efeeb",
   "metadata": {},
   "outputs": [
    {
     "name": "stderr",
     "output_type": "stream",
     "text": [
      "/var/folders/rq/nn_4svg107d6nzx2v6dc9s9c0000gn/T/ipykernel_44414/3028036219.py:11: FutureWarning: Automatic reindexing on DataFrame vs Series comparisons is deprecated and will raise ValueError in a future version. Do `left, right = left.align(right, axis=1, copy=False)` before e.g. `left == right`\n",
      "  df_Poland = df_Poland[~((df_Poland < (Q1 - 1.5 * IQR)) | (df_Poland > (Q3 + 1.5 * IQR))).any(axis = 1)]\n"
     ]
    }
   ],
   "source": [
    "# Interquartile range to remove outliers.\n",
    "Q1 = df_Poland.quantile(0.25)\n",
    "Q3 = df_Poland.quantile(0.75)\n",
    "IQR = Q3 - Q1\n",
    "#print(IQR)\n",
    " \n",
    "# Print the outliers.\n",
    "# print(df < (Q1 - 1.5 * IQR)) | (df > (Q3 + 1.5 * IQR))\n",
    "\n",
    "# Remove all outliers and show the number by using \"shape\" to compare to \"shape\" before this action.\n",
    "df_Poland = df_Poland[~((df_Poland < (Q1 - 1.5 * IQR)) | (df_Poland > (Q3 + 1.5 * IQR))).any(axis = 1)]\n"
   ]
  },
  {
   "cell_type": "code",
   "execution_count": 70,
   "id": "8274cda5",
   "metadata": {},
   "outputs": [
    {
     "data": {
      "text/plain": [
       "(610, 4)"
      ]
     },
     "execution_count": 70,
     "metadata": {},
     "output_type": "execute_result"
    }
   ],
   "source": [
    "# Check.\n",
    "df_Poland.shape"
   ]
  },
  {
   "cell_type": "code",
   "execution_count": 71,
   "id": "766355b9",
   "metadata": {},
   "outputs": [],
   "source": [
    "# Read country csv and assign to new dataframe.\n",
    "df_Russia = pd.read_csv('Russian Federation.csv')\n",
    "df_Russia = df_Russia[df_Russia['Salary'] <= 500000]"
   ]
  },
  {
   "cell_type": "code",
   "execution_count": 72,
   "id": "4dc35092",
   "metadata": {
    "scrolled": true
   },
   "outputs": [
    {
     "data": {
      "image/png": "[encoded data removed]",
      "text/plain": [
       "<Figure size 1080x504 with 1 Axes>"
      ]
     },
     "metadata": {
      "needs_background": "light"
     },
     "output_type": "display_data"
    }
   ],
   "source": [
    "# Create box plot with the filtered salary data by country of residence.\n",
    "fig, ax = plt.subplots(1, 1, figsize = (15,7))\n",
    "df_Russia.boxplot('Salary', 'Country', ax=ax)\n",
    "plt.suptitle('Salary in US$ by Country')\n",
    "plt.title('')\n",
    "plt.ylabel('Salary')\n",
    "plt.xticks(rotation = 90)\n",
    "plt.show()"
   ]
  },
  {
   "cell_type": "code",
   "execution_count": 73,
   "id": "2993b639",
   "metadata": {},
   "outputs": [
    {
     "data": {
      "text/plain": [
       "(537, 4)"
      ]
     },
     "execution_count": 73,
     "metadata": {},
     "output_type": "execute_result"
    }
   ],
   "source": [
    "df_Russia.shape"
   ]
  },
  {
   "cell_type": "code",
   "execution_count": 74,
   "id": "c8a28387",
   "metadata": {},
   "outputs": [
    {
     "name": "stderr",
     "output_type": "stream",
     "text": [
      "/var/folders/rq/nn_4svg107d6nzx2v6dc9s9c0000gn/T/ipykernel_44414/4233684572.py:11: FutureWarning: Automatic reindexing on DataFrame vs Series comparisons is deprecated and will raise ValueError in a future version. Do `left, right = left.align(right, axis=1, copy=False)` before e.g. `left == right`\n",
      "  df_Russia = df_Russia[~((df_Russia < (Q1 - 1.5 * IQR)) | (df_Russia > (Q3 + 1.5 * IQR))).any(axis = 1)]\n"
     ]
    }
   ],
   "source": [
    "# Interquartile range to remove outliers.\n",
    "Q1 = df_Russia.quantile(0.25)\n",
    "Q3 = df_Russia.quantile(0.75)\n",
    "IQR = Q3 - Q1\n",
    "#print(IQR)\n",
    " \n",
    "# Print the outliers.\n",
    "# print(df < (Q1 - 1.5 * IQR)) | (df > (Q3 + 1.5 * IQR))\n",
    "\n",
    "# Remove all outliers and show the number by using \"shape\" to compare to \"shape\" before this action.\n",
    "df_Russia = df_Russia[~((df_Russia < (Q1 - 1.5 * IQR)) | (df_Russia > (Q3 + 1.5 * IQR))).any(axis = 1)]\n"
   ]
  },
  {
   "cell_type": "code",
   "execution_count": 75,
   "id": "780755c5",
   "metadata": {},
   "outputs": [
    {
     "data": {
      "text/plain": [
       "(518, 4)"
      ]
     },
     "execution_count": 75,
     "metadata": {},
     "output_type": "execute_result"
    }
   ],
   "source": [
    "# Check.\n",
    "df_Russia.shape"
   ]
  },
  {
   "cell_type": "code",
   "execution_count": 76,
   "id": "752a4582",
   "metadata": {},
   "outputs": [],
   "source": [
    "# Read country csv and assign to new dataframe.\n",
    "df_Spain = pd.read_csv('Spain.csv')\n",
    "df_Spain = df_Spain[df_Spain['Salary'] <= 500000]"
   ]
  },
  {
   "cell_type": "code",
   "execution_count": 77,
   "id": "060cab24",
   "metadata": {
    "scrolled": true
   },
   "outputs": [
    {
     "data": {
      "image/png": "[encoded data removed]",
      "text/plain": [
       "<Figure size 1080x504 with 1 Axes>"
      ]
     },
     "metadata": {
      "needs_background": "light"
     },
     "output_type": "display_data"
    }
   ],
   "source": [
    "# Create box plot with the filtered salary data by country of residence.\n",
    "fig, ax = plt.subplots(1, 1, figsize = (15,7))\n",
    "df_Spain.boxplot('Salary', 'Country', ax=ax)\n",
    "plt.suptitle('Salary in US$ by Country')\n",
    "plt.title('')\n",
    "plt.ylabel('Salary')\n",
    "plt.xticks(rotation = 90)\n",
    "plt.show()"
   ]
  },
  {
   "cell_type": "code",
   "execution_count": 78,
   "id": "35b5dc94",
   "metadata": {},
   "outputs": [
    {
     "data": {
      "text/plain": [
       "(536, 4)"
      ]
     },
     "execution_count": 78,
     "metadata": {},
     "output_type": "execute_result"
    }
   ],
   "source": [
    "df_Spain.shape"
   ]
  },
  {
   "cell_type": "code",
   "execution_count": 79,
   "id": "df241eb8",
   "metadata": {},
   "outputs": [
    {
     "name": "stderr",
     "output_type": "stream",
     "text": [
      "/var/folders/rq/nn_4svg107d6nzx2v6dc9s9c0000gn/T/ipykernel_44414/3589039543.py:11: FutureWarning: Automatic reindexing on DataFrame vs Series comparisons is deprecated and will raise ValueError in a future version. Do `left, right = left.align(right, axis=1, copy=False)` before e.g. `left == right`\n",
      "  df_Spain = df_Spain[~((df_Spain < (Q1 - 1.5 * IQR)) | (df_Spain > (Q3 + 1.5 * IQR))).any(axis = 1)]\n"
     ]
    }
   ],
   "source": [
    "# Interquartile range to remove outliers.\n",
    "Q1 = df_Spain.quantile(0.25)\n",
    "Q3 = df_Spain.quantile(0.75)\n",
    "IQR = Q3 - Q1\n",
    "#print(IQR)\n",
    " \n",
    "# Print the outliers.\n",
    "# print(df < (Q1 - 1.5 * IQR)) | (df > (Q3 + 1.5 * IQR))\n",
    "\n",
    "# Remove all outliers and show the number by using \"shape\" to compare to \"shape\" before this action.\n",
    "df_Spain = df_Spain[~((df_Spain < (Q1 - 1.5 * IQR)) | (df_Spain > (Q3 + 1.5 * IQR))).any(axis = 1)]\n"
   ]
  },
  {
   "cell_type": "code",
   "execution_count": 80,
   "id": "2a990f1b",
   "metadata": {},
   "outputs": [
    {
     "data": {
      "text/plain": [
       "(517, 4)"
      ]
     },
     "execution_count": 80,
     "metadata": {},
     "output_type": "execute_result"
    }
   ],
   "source": [
    "# Check.\n",
    "df_Spain.shape"
   ]
  },
  {
   "cell_type": "code",
   "execution_count": 81,
   "id": "3ac1104d",
   "metadata": {},
   "outputs": [],
   "source": [
    "# Read country csv and assign to new dataframe.\n",
    "df_Sweden = pd.read_csv('Sweden.csv')\n",
    "df_Sweden = df_Sweden[df_Sweden['Salary'] <= 500000]"
   ]
  },
  {
   "cell_type": "code",
   "execution_count": 82,
   "id": "7c22e80e",
   "metadata": {
    "scrolled": true
   },
   "outputs": [
    {
     "data": {
      "image/png": "[encoded data removed]",
      "text/plain": [
       "<Figure size 1080x504 with 1 Axes>"
      ]
     },
     "metadata": {
      "needs_background": "light"
     },
     "output_type": "display_data"
    }
   ],
   "source": [
    "# Create box plot with the filtered salary data by country of residence.\n",
    "fig, ax = plt.subplots(1, 1, figsize = (15,7))\n",
    "df_Sweden.boxplot('Salary', 'Country', ax=ax)\n",
    "plt.suptitle('Salary in US$ by Country')\n",
    "plt.title('')\n",
    "plt.ylabel('Salary')\n",
    "plt.xticks(rotation = 90)\n",
    "plt.show()"
   ]
  },
  {
   "cell_type": "code",
   "execution_count": 83,
   "id": "01f674d8",
   "metadata": {},
   "outputs": [
    {
     "data": {
      "text/plain": [
       "(455, 4)"
      ]
     },
     "execution_count": 83,
     "metadata": {},
     "output_type": "execute_result"
    }
   ],
   "source": [
    "df_Sweden.shape"
   ]
  },
  {
   "cell_type": "code",
   "execution_count": 84,
   "id": "a6af24d1",
   "metadata": {},
   "outputs": [
    {
     "name": "stderr",
     "output_type": "stream",
     "text": [
      "/var/folders/rq/nn_4svg107d6nzx2v6dc9s9c0000gn/T/ipykernel_44414/307131686.py:11: FutureWarning: Automatic reindexing on DataFrame vs Series comparisons is deprecated and will raise ValueError in a future version. Do `left, right = left.align(right, axis=1, copy=False)` before e.g. `left == right`\n",
      "  df_Sweden = df_Sweden[~((df_Sweden < (Q1 - 1.5 * IQR)) | (df_Sweden > (Q3 + 1.5 * IQR))).any(axis = 1)]\n"
     ]
    }
   ],
   "source": [
    "# Interquartile range to remove outliers.\n",
    "Q1 = df_Sweden.quantile(0.25)\n",
    "Q3 = df_Sweden.quantile(0.75)\n",
    "IQR = Q3 - Q1\n",
    "#print(IQR)\n",
    " \n",
    "# Print the outliers.\n",
    "# print(df < (Q1 - 1.5 * IQR)) | (df > (Q3 + 1.5 * IQR))\n",
    "\n",
    "# Remove all outliers and show the number by using \"shape\" to compare to \"shape\" before this action.\n",
    "df_Sweden = df_Sweden[~((df_Sweden < (Q1 - 1.5 * IQR)) | (df_Sweden > (Q3 + 1.5 * IQR))).any(axis = 1)]"
   ]
  },
  {
   "cell_type": "code",
   "execution_count": 85,
   "id": "30e73d11",
   "metadata": {},
   "outputs": [
    {
     "data": {
      "text/plain": [
       "(437, 4)"
      ]
     },
     "execution_count": 85,
     "metadata": {},
     "output_type": "execute_result"
    }
   ],
   "source": [
    "# Check.\n",
    "df_Sweden.shape"
   ]
  },
  {
   "cell_type": "code",
   "execution_count": 86,
   "id": "11ef0951",
   "metadata": {},
   "outputs": [],
   "source": [
    "# Read country csv and assign to new dataframe.\n",
    "df_UK = pd.read_csv('United Kingdom of Great Britain and Northern Ireland.csv')\n",
    "df_UK = df_UK[df_UK['Salary'] <= 500000]"
   ]
  },
  {
   "cell_type": "code",
   "execution_count": 87,
   "id": "ef12350c",
   "metadata": {
    "scrolled": true
   },
   "outputs": [
    {
     "data": {
      "image/png": "[encoded data removed]",
      "text/plain": [
       "<Figure size 1080x504 with 1 Axes>"
      ]
     },
     "metadata": {
      "needs_background": "light"
     },
     "output_type": "display_data"
    }
   ],
   "source": [
    "# Create box plot with the filtered salary data by country of residence.\n",
    "fig, ax = plt.subplots(1, 1, figsize = (15,7))\n",
    "df_UK.boxplot('Salary', 'Country', ax=ax)\n",
    "plt.suptitle('Salary in US$ by Country')\n",
    "plt.title('')\n",
    "plt.ylabel('Salary')\n",
    "plt.xticks(rotation = 90)\n",
    "plt.show()"
   ]
  },
  {
   "cell_type": "code",
   "execution_count": 88,
   "id": "5dffad46",
   "metadata": {},
   "outputs": [
    {
     "data": {
      "text/plain": [
       "(1484, 4)"
      ]
     },
     "execution_count": 88,
     "metadata": {},
     "output_type": "execute_result"
    }
   ],
   "source": [
    "df_UK.shape"
   ]
  },
  {
   "cell_type": "code",
   "execution_count": 89,
   "id": "e6f5b4f0",
   "metadata": {},
   "outputs": [
    {
     "name": "stderr",
     "output_type": "stream",
     "text": [
      "/var/folders/rq/nn_4svg107d6nzx2v6dc9s9c0000gn/T/ipykernel_44414/854327001.py:11: FutureWarning: Automatic reindexing on DataFrame vs Series comparisons is deprecated and will raise ValueError in a future version. Do `left, right = left.align(right, axis=1, copy=False)` before e.g. `left == right`\n",
      "  df_UK = df_UK[~((df_UK < (Q1 - 1.5 * IQR)) | (df_UK > (Q3 + 1.5 * IQR))).any(axis = 1)]\n"
     ]
    }
   ],
   "source": [
    "# Interquartile range to remove outliers.\n",
    "Q1 = df_UK.quantile(0.25)\n",
    "Q3 = df_UK.quantile(0.75)\n",
    "IQR = Q3 - Q1\n",
    "#print(IQR)\n",
    " \n",
    "# Print the outliers.\n",
    "# print(df < (Q1 - 1.5 * IQR)) | (df > (Q3 + 1.5 * IQR))\n",
    "\n",
    "# Remove all outliers and show the number by using \"shape\" to compare to \"shape\" before this action.\n",
    "df_UK = df_UK[~((df_UK < (Q1 - 1.5 * IQR)) | (df_UK > (Q3 + 1.5 * IQR))).any(axis = 1)]\n"
   ]
  },
  {
   "cell_type": "code",
   "execution_count": 90,
   "id": "c328f766",
   "metadata": {},
   "outputs": [
    {
     "data": {
      "text/plain": [
       "(1433, 4)"
      ]
     },
     "execution_count": 90,
     "metadata": {},
     "output_type": "execute_result"
    }
   ],
   "source": [
    "# Check.\n",
    "df_UK.shape"
   ]
  },
  {
   "cell_type": "code",
   "execution_count": 91,
   "id": "b0dba8a7",
   "metadata": {},
   "outputs": [],
   "source": [
    "# Read country csv and assign to new dataframe.\n",
    "df_US = pd.read_csv('United States of America.csv')\n",
    "df_US = df_US[df_US['Salary'] <=500000 ]"
   ]
  },
  {
   "cell_type": "code",
   "execution_count": 92,
   "id": "5b97e506",
   "metadata": {
    "scrolled": true
   },
   "outputs": [
    {
     "data": {
      "image/png": "[encoded data removed]",
      "text/plain": [
       "<Figure size 1080x504 with 1 Axes>"
      ]
     },
     "metadata": {
      "needs_background": "light"
     },
     "output_type": "display_data"
    }
   ],
   "source": [
    "# Create box plot with the filtered salary data by country of residence.\n",
    "fig, ax = plt.subplots(1, 1, figsize = (15,7))\n",
    "df_US.boxplot('Salary', 'Country', ax=ax)\n",
    "plt.suptitle('Salary in US$ by Country')\n",
    "plt.title('')\n",
    "plt.ylabel('Salary')\n",
    "plt.xticks(rotation = 90)\n",
    "plt.show()"
   ]
  },
  {
   "cell_type": "code",
   "execution_count": 93,
   "id": "a529dd30",
   "metadata": {},
   "outputs": [
    {
     "data": {
      "text/plain": [
       "(4936, 4)"
      ]
     },
     "execution_count": 93,
     "metadata": {},
     "output_type": "execute_result"
    }
   ],
   "source": [
    "df_US.shape"
   ]
  },
  {
   "cell_type": "code",
   "execution_count": 94,
   "id": "19a0fd90",
   "metadata": {},
   "outputs": [
    {
     "name": "stderr",
     "output_type": "stream",
     "text": [
      "/var/folders/rq/nn_4svg107d6nzx2v6dc9s9c0000gn/T/ipykernel_44414/863542544.py:11: FutureWarning: Automatic reindexing on DataFrame vs Series comparisons is deprecated and will raise ValueError in a future version. Do `left, right = left.align(right, axis=1, copy=False)` before e.g. `left == right`\n",
      "  df_US = df_US[~((df_US < (Q1 - 1.5 * IQR)) | (df_US > (Q3 + 1.5 * IQR))).any(axis = 1)]\n"
     ]
    }
   ],
   "source": [
    "# Interquartile range to remove outliers.\n",
    "Q1 = df_US.quantile(0.25)\n",
    "Q3 = df_US.quantile(0.75)\n",
    "IQR = Q3 - Q1\n",
    "#print(IQR)\n",
    " \n",
    "# Print the outliers.\n",
    "# print(df < (Q1 - 1.5 * IQR)) | (df > (Q3 + 1.5 * IQR))\n",
    "\n",
    "# Remove all outliers and show the number by using \"shape\" to compare to \"shape\" before this action.\n",
    "df_US = df_US[~((df_US < (Q1 - 1.5 * IQR)) | (df_US > (Q3 + 1.5 * IQR))).any(axis = 1)]\n"
   ]
  },
  {
   "cell_type": "code",
   "execution_count": 95,
   "id": "b0c341c8",
   "metadata": {},
   "outputs": [
    {
     "data": {
      "text/plain": [
       "(4936, 4)"
      ]
     },
     "execution_count": 95,
     "metadata": {},
     "output_type": "execute_result"
    }
   ],
   "source": [
    "# Check.\n",
    "df_US.shape"
   ]
  },
  {
   "cell_type": "code",
   "execution_count": 96,
   "id": "3686e1c8",
   "metadata": {
    "scrolled": true
   },
   "outputs": [
    {
     "data": {
      "text/plain": [
       "(17144, 4)"
      ]
     },
     "execution_count": 96,
     "metadata": {},
     "output_type": "execute_result"
    }
   ],
   "source": [
    "# Now that all individual Country entries have been stripped of their respective outliers, the data from each will be recombined.\n",
    "df_combined_after = pd.concat([df_Australia, df_Brazil, df_Canada, df_France, df_Germany, \n",
    "                            df_India, df_Italy, df_Netherlands, df_Poland, df_Russia, \n",
    "                            df_Spain, df_Sweden, df_UK, df_US], ignore_index = True)\n",
    "\n",
    "\n",
    "df_combined_after.shape"
   ]
  },
  {
   "cell_type": "code",
   "execution_count": 97,
   "id": "4af4b616",
   "metadata": {},
   "outputs": [
    {
     "data": {
      "text/plain": [
       "array([ 0,  1,  2,  3,  4,  5,  6,  7,  8,  9, 10, 11, 12, 13])"
      ]
     },
     "execution_count": 97,
     "metadata": {},
     "output_type": "execute_result"
    }
   ],
   "source": [
    "# Entries representing as String values must be converted to numbers, so that they can be utilized by the system.\n",
    "# Start with countries.\n",
    "from sklearn.preprocessing import LabelEncoder\n",
    "country_after_LE = LabelEncoder()\n",
    "df_combined_after['Country'] = country_after_LE.fit_transform(df_combined_after['Country'])\n",
    "df_combined_after['Country'].unique()"
   ]
  },
  {
   "cell_type": "code",
   "execution_count": 98,
   "id": "77e5e7c1",
   "metadata": {},
   "outputs": [
    {
     "data": {
      "text/plain": [
       "array([2, 0, 1, 3])"
      ]
     },
     "execution_count": 98,
     "metadata": {},
     "output_type": "execute_result"
    }
   ],
   "source": [
    "# Convert String values of 'EdLevel' to numbers.\n",
    "education_after_LE = LabelEncoder()\n",
    "df_combined_after['EdLevel'] = education_after_LE.fit_transform(df_combined_after['EdLevel'])\n",
    "df_combined_after['EdLevel'].unique()"
   ]
  },
  {
   "cell_type": "code",
   "execution_count": 99,
   "id": "4a8ea60f",
   "metadata": {
    "scrolled": true
   },
   "outputs": [
    {
     "data": {
      "text/html": [
       "<div>\n",
       "<style scoped>\n",
       "    .dataframe tbody tr th:only-of-type {\n",
       "        vertical-align: middle;\n",
       "    }\n",
       "\n",
       "    .dataframe tbody tr th {\n",
       "        vertical-align: top;\n",
       "    }\n",
       "\n",
       "    .dataframe thead th {\n",
       "        text-align: right;\n",
       "    }\n",
       "</style>\n",
       "<table border=\"1\" class=\"dataframe\">\n",
       "  <thead>\n",
       "    <tr style=\"text-align: right;\">\n",
       "      <th></th>\n",
       "      <th>Country</th>\n",
       "      <th>EdLevel</th>\n",
       "      <th>YearsCodePro</th>\n",
       "      <th>Salary</th>\n",
       "    </tr>\n",
       "  </thead>\n",
       "  <tbody>\n",
       "    <tr>\n",
       "      <th>0</th>\n",
       "      <td>0</td>\n",
       "      <td>2</td>\n",
       "      <td>2.0</td>\n",
       "      <td>96874.0</td>\n",
       "    </tr>\n",
       "    <tr>\n",
       "      <th>1</th>\n",
       "      <td>0</td>\n",
       "      <td>0</td>\n",
       "      <td>1.0</td>\n",
       "      <td>40086.0</td>\n",
       "    </tr>\n",
       "    <tr>\n",
       "      <th>2</th>\n",
       "      <td>0</td>\n",
       "      <td>1</td>\n",
       "      <td>0.5</td>\n",
       "      <td>60132.0</td>\n",
       "    </tr>\n",
       "    <tr>\n",
       "      <th>3</th>\n",
       "      <td>0</td>\n",
       "      <td>3</td>\n",
       "      <td>7.0</td>\n",
       "      <td>76831.0</td>\n",
       "    </tr>\n",
       "    <tr>\n",
       "      <th>4</th>\n",
       "      <td>0</td>\n",
       "      <td>0</td>\n",
       "      <td>5.0</td>\n",
       "      <td>86853.0</td>\n",
       "    </tr>\n",
       "  </tbody>\n",
       "</table>\n",
       "</div>"
      ],
      "text/plain": [
       "   Country  EdLevel  YearsCodePro   Salary\n",
       "0        0        2           2.0  96874.0\n",
       "1        0        0           1.0  40086.0\n",
       "2        0        1           0.5  60132.0\n",
       "3        0        3           7.0  76831.0\n",
       "4        0        0           5.0  86853.0"
      ]
     },
     "execution_count": 99,
     "metadata": {},
     "output_type": "execute_result"
    }
   ],
   "source": [
    "# Check processing results.\n",
    "df_combined_after.head()"
   ]
  },
  {
   "cell_type": "code",
   "execution_count": 100,
   "id": "26530305",
   "metadata": {},
   "outputs": [
    {
     "data": {
      "text/plain": [
       "3.0     2360\n",
       "2.0     2170\n",
       "5.0     2157\n",
       "4.0     2012\n",
       "6.0     1640\n",
       "10.0    1453\n",
       "7.0     1317\n",
       "8.0     1193\n",
       "1.0     1106\n",
       "0.5      988\n",
       "9.0      748\n",
       "Name: YearsCodePro, dtype: int64"
      ]
     },
     "execution_count": 100,
     "metadata": {},
     "output_type": "execute_result"
    }
   ],
   "source": [
    "df_combined_after['YearsCodePro'].value_counts()"
   ]
  },
  {
   "cell_type": "code",
   "execution_count": 101,
   "id": "5ed62583",
   "metadata": {},
   "outputs": [
    {
     "data": {
      "text/plain": [
       "array([ 2. ,  1. ,  0.5,  7. ,  5. ,  3. , 10. ,  6. ,  9. ,  4. ,  8. ])"
      ]
     },
     "execution_count": 101,
     "metadata": {},
     "output_type": "execute_result"
    }
   ],
   "source": [
    "df_combined_after['YearsCodePro'].unique()"
   ]
  },
  {
   "cell_type": "code",
   "execution_count": 102,
   "id": "5052efdc",
   "metadata": {},
   "outputs": [
    {
     "data": {
      "text/html": [
       "<div>\n",
       "<style scoped>\n",
       "    .dataframe tbody tr th:only-of-type {\n",
       "        vertical-align: middle;\n",
       "    }\n",
       "\n",
       "    .dataframe tbody tr th {\n",
       "        vertical-align: top;\n",
       "    }\n",
       "\n",
       "    .dataframe thead th {\n",
       "        text-align: right;\n",
       "    }\n",
       "</style>\n",
       "<table border=\"1\" class=\"dataframe\">\n",
       "  <thead>\n",
       "    <tr style=\"text-align: right;\">\n",
       "      <th></th>\n",
       "      <th>Country</th>\n",
       "      <th>EdLevel</th>\n",
       "      <th>YearsCodePro</th>\n",
       "      <th>Salary</th>\n",
       "    </tr>\n",
       "  </thead>\n",
       "  <tbody>\n",
       "    <tr>\n",
       "      <th>count</th>\n",
       "      <td>17144.000000</td>\n",
       "      <td>17144.000000</td>\n",
       "      <td>17144.000000</td>\n",
       "      <td>17144.000000</td>\n",
       "    </tr>\n",
       "    <tr>\n",
       "      <th>mean</th>\n",
       "      <td>7.795030</td>\n",
       "      <td>0.819412</td>\n",
       "      <td>4.766566</td>\n",
       "      <td>60596.324370</td>\n",
       "    </tr>\n",
       "    <tr>\n",
       "      <th>std</th>\n",
       "      <td>4.429131</td>\n",
       "      <td>0.959268</td>\n",
       "      <td>2.792570</td>\n",
       "      <td>43041.371542</td>\n",
       "    </tr>\n",
       "    <tr>\n",
       "      <th>min</th>\n",
       "      <td>0.000000</td>\n",
       "      <td>0.000000</td>\n",
       "      <td>0.500000</td>\n",
       "      <td>588.000000</td>\n",
       "    </tr>\n",
       "    <tr>\n",
       "      <th>25%</th>\n",
       "      <td>4.000000</td>\n",
       "      <td>0.000000</td>\n",
       "      <td>3.000000</td>\n",
       "      <td>27492.000000</td>\n",
       "    </tr>\n",
       "    <tr>\n",
       "      <th>50%</th>\n",
       "      <td>7.000000</td>\n",
       "      <td>0.000000</td>\n",
       "      <td>4.000000</td>\n",
       "      <td>51887.500000</td>\n",
       "    </tr>\n",
       "    <tr>\n",
       "      <th>75%</th>\n",
       "      <td>13.000000</td>\n",
       "      <td>2.000000</td>\n",
       "      <td>7.000000</td>\n",
       "      <td>84019.000000</td>\n",
       "    </tr>\n",
       "    <tr>\n",
       "      <th>max</th>\n",
       "      <td>13.000000</td>\n",
       "      <td>3.000000</td>\n",
       "      <td>10.000000</td>\n",
       "      <td>200000.000000</td>\n",
       "    </tr>\n",
       "  </tbody>\n",
       "</table>\n",
       "</div>"
      ],
      "text/plain": [
       "            Country       EdLevel  YearsCodePro         Salary\n",
       "count  17144.000000  17144.000000  17144.000000   17144.000000\n",
       "mean       7.795030      0.819412      4.766566   60596.324370\n",
       "std        4.429131      0.959268      2.792570   43041.371542\n",
       "min        0.000000      0.000000      0.500000     588.000000\n",
       "25%        4.000000      0.000000      3.000000   27492.000000\n",
       "50%        7.000000      0.000000      4.000000   51887.500000\n",
       "75%       13.000000      2.000000      7.000000   84019.000000\n",
       "max       13.000000      3.000000     10.000000  200000.000000"
      ]
     },
     "execution_count": 102,
     "metadata": {},
     "output_type": "execute_result"
    }
   ],
   "source": [
    "# Change to altered dataframe to a new final dataframe.\n",
    "df_final = df_combined_after\n",
    "df_final.describe()"
   ]
  },
  {
   "cell_type": "code",
   "execution_count": 103,
   "id": "22b8f691",
   "metadata": {},
   "outputs": [],
   "source": [
    "# Collect data from df_final and put into a csv file.\n",
    "df_final.to_csv('Final_Data_After_Cleaning.csv')"
   ]
  },
  {
   "cell_type": "code",
   "execution_count": 104,
   "id": "6d2ad63a",
   "metadata": {},
   "outputs": [],
   "source": [
    "#df_final = df_final[df_final['Salary'] >= 30000]\n",
    "#df_final = df_final[df_final['Salary'] <= 200000]"
   ]
  },
  {
   "cell_type": "code",
   "execution_count": 105,
   "id": "17a90872",
   "metadata": {},
   "outputs": [
    {
     "data": {
      "text/html": [
       "<div>\n",
       "<style scoped>\n",
       "    .dataframe tbody tr th:only-of-type {\n",
       "        vertical-align: middle;\n",
       "    }\n",
       "\n",
       "    .dataframe tbody tr th {\n",
       "        vertical-align: top;\n",
       "    }\n",
       "\n",
       "    .dataframe thead th {\n",
       "        text-align: right;\n",
       "    }\n",
       "</style>\n",
       "<table border=\"1\" class=\"dataframe\">\n",
       "  <thead>\n",
       "    <tr style=\"text-align: right;\">\n",
       "      <th></th>\n",
       "      <th>Country</th>\n",
       "      <th>EdLevel</th>\n",
       "      <th>YearsCodePro</th>\n",
       "    </tr>\n",
       "  </thead>\n",
       "  <tbody>\n",
       "    <tr>\n",
       "      <th>0</th>\n",
       "      <td>0</td>\n",
       "      <td>2</td>\n",
       "      <td>2.0</td>\n",
       "    </tr>\n",
       "    <tr>\n",
       "      <th>1</th>\n",
       "      <td>0</td>\n",
       "      <td>0</td>\n",
       "      <td>1.0</td>\n",
       "    </tr>\n",
       "    <tr>\n",
       "      <th>2</th>\n",
       "      <td>0</td>\n",
       "      <td>1</td>\n",
       "      <td>0.5</td>\n",
       "    </tr>\n",
       "    <tr>\n",
       "      <th>3</th>\n",
       "      <td>0</td>\n",
       "      <td>3</td>\n",
       "      <td>7.0</td>\n",
       "    </tr>\n",
       "    <tr>\n",
       "      <th>4</th>\n",
       "      <td>0</td>\n",
       "      <td>0</td>\n",
       "      <td>5.0</td>\n",
       "    </tr>\n",
       "  </tbody>\n",
       "</table>\n",
       "</div>"
      ],
      "text/plain": [
       "   Country  EdLevel  YearsCodePro\n",
       "0        0        2           2.0\n",
       "1        0        0           1.0\n",
       "2        0        1           0.5\n",
       "3        0        3           7.0\n",
       "4        0        0           5.0"
      ]
     },
     "execution_count": 105,
     "metadata": {},
     "output_type": "execute_result"
    }
   ],
   "source": [
    "# Import Training and Testing data model function.\n",
    "from sklearn.model_selection import train_test_split\n",
    "\n",
    "# The independent variables consists of country, education level, and years of experience. \n",
    "x = df_final.drop('Salary', axis = 1)\n",
    "x.head()"
   ]
  },
  {
   "cell_type": "code",
   "execution_count": 106,
   "id": "582dce09",
   "metadata": {},
   "outputs": [
    {
     "data": {
      "text/plain": [
       "0    96874.0\n",
       "1    40086.0\n",
       "2    60132.0\n",
       "3    76831.0\n",
       "4    86853.0\n",
       "Name: Salary, dtype: float64"
      ]
     },
     "execution_count": 106,
     "metadata": {},
     "output_type": "execute_result"
    }
   ],
   "source": [
    "# y is the dependent variable.\n",
    "y = df_final['Salary']\n",
    "y.head()"
   ]
  },
  {
   "cell_type": "code",
   "execution_count": 107,
   "id": "dfa3f23c",
   "metadata": {},
   "outputs": [
    {
     "data": {
      "text/plain": [
       "((17144, 3), (17144,))"
      ]
     },
     "execution_count": 107,
     "metadata": {},
     "output_type": "execute_result"
    }
   ],
   "source": [
    "x.shape, y.shape"
   ]
  },
  {
   "cell_type": "code",
   "execution_count": 108,
   "id": "fdec5e06",
   "metadata": {},
   "outputs": [
    {
     "data": {
      "text/plain": [
       "((13715, 3), (3429, 3), (13715,), (3429,))"
      ]
     },
     "execution_count": 108,
     "metadata": {},
     "output_type": "execute_result"
    }
   ],
   "source": [
    "# The data will be split into 80% training and 20% testing.\n",
    "x_train, x_test, y_train, y_test = train_test_split(x, y, random_state = 7, test_size = 0.2)\n",
    "x_train.shape, x_test.shape, y_train.shape, y_test.shape"
   ]
  },
  {
   "cell_type": "code",
   "execution_count": 109,
   "id": "efb48b9d",
   "metadata": {},
   "outputs": [
    {
     "data": {
      "text/html": [
       "<style>#sk-container-id-1 {color: black;background-color: white;}#sk-container-id-1 pre{padding: 0;}#sk-container-id-1 div.sk-toggleable {background-color: white;}#sk-container-id-1 label.sk-toggleable__label {cursor: pointer;display: block;width: 100%;margin-bottom: 0;padding: 0.3em;box-sizing: border-box;text-align: center;}#sk-container-id-1 label.sk-toggleable__label-arrow:before {content: \"▸\";float: left;margin-right: 0.25em;color: #696969;}#sk-container-id-1 label.sk-toggleable__label-arrow:hover:before {color: black;}#sk-container-id-1 div.sk-estimator:hover label.sk-toggleable__label-arrow:before {color: black;}#sk-container-id-1 div.sk-toggleable__content {max-height: 0;max-width: 0;overflow: hidden;text-align: left;background-color: #f0f8ff;}#sk-container-id-1 div.sk-toggleable__content pre {margin: 0.2em;color: black;border-radius: 0.25em;background-color: #f0f8ff;}#sk-container-id-1 input.sk-toggleable__control:checked~div.sk-toggleable__content {max-height: 200px;max-width: 100%;overflow: auto;}#sk-container-id-1 input.sk-toggleable__control:checked~label.sk-toggleable__label-arrow:before {content: \"▾\";}#sk-container-id-1 div.sk-estimator input.sk-toggleable__control:checked~label.sk-toggleable__label {background-color: #d4ebff;}#sk-container-id-1 div.sk-label input.sk-toggleable__control:checked~label.sk-toggleable__label {background-color: #d4ebff;}#sk-container-id-1 input.sk-hidden--visually {border: 0;clip: rect(1px 1px 1px 1px);clip: rect(1px, 1px, 1px, 1px);height: 1px;margin: -1px;overflow: hidden;padding: 0;position: absolute;width: 1px;}#sk-container-id-1 div.sk-estimator {font-family: monospace;background-color: #f0f8ff;border: 1px dotted black;border-radius: 0.25em;box-sizing: border-box;margin-bottom: 0.5em;}#sk-container-id-1 div.sk-estimator:hover {background-color: #d4ebff;}#sk-container-id-1 div.sk-parallel-item::after {content: \"\";width: 100%;border-bottom: 1px solid gray;flex-grow: 1;}#sk-container-id-1 div.sk-label:hover label.sk-toggleable__label {background-color: #d4ebff;}#sk-container-id-1 div.sk-serial::before {content: \"\";position: absolute;border-left: 1px solid gray;box-sizing: border-box;top: 0;bottom: 0;left: 50%;z-index: 0;}#sk-container-id-1 div.sk-serial {display: flex;flex-direction: column;align-items: center;background-color: white;padding-right: 0.2em;padding-left: 0.2em;position: relative;}#sk-container-id-1 div.sk-item {position: relative;z-index: 1;}#sk-container-id-1 div.sk-parallel {display: flex;align-items: stretch;justify-content: center;background-color: white;position: relative;}#sk-container-id-1 div.sk-item::before, #sk-container-id-1 div.sk-parallel-item::before {content: \"\";position: absolute;border-left: 1px solid gray;box-sizing: border-box;top: 0;bottom: 0;left: 50%;z-index: -1;}#sk-container-id-1 div.sk-parallel-item {display: flex;flex-direction: column;z-index: 1;position: relative;background-color: white;}#sk-container-id-1 div.sk-parallel-item:first-child::after {align-self: flex-end;width: 50%;}#sk-container-id-1 div.sk-parallel-item:last-child::after {align-self: flex-start;width: 50%;}#sk-container-id-1 div.sk-parallel-item:only-child::after {width: 0;}#sk-container-id-1 div.sk-dashed-wrapped {border: 1px dashed gray;margin: 0 0.4em 0.5em 0.4em;box-sizing: border-box;padding-bottom: 0.4em;background-color: white;}#sk-container-id-1 div.sk-label label {font-family: monospace;font-weight: bold;display: inline-block;line-height: 1.2em;}#sk-container-id-1 div.sk-label-container {text-align: center;}#sk-container-id-1 div.sk-container {/* jupyter's `normalize.less` sets `[hidden] { display: none; }` but bootstrap.min.css set `[hidden] { display: none !important; }` so we also need the `!important` here to be able to override the default hidden behavior on the sphinx rendered scikit-learn.org. See: https://github.com/scikit-learn/scikit-learn/issues/21755 */display: inline-block !important;position: relative;}#sk-container-id-1 div.sk-text-repr-fallback {display: none;}</style><div id=\"sk-container-id-1\" class=\"sk-top-container\"><div class=\"sk-text-repr-fallback\"><pre>LinearRegression()</pre><b>In a Jupyter environment, please rerun this cell to show the HTML representation or trust the notebook. <br />On GitHub, the HTML representation is unable to render, please try loading this page with nbviewer.org.</b></div><div class=\"sk-container\" hidden><div class=\"sk-item\"><div class=\"sk-estimator sk-toggleable\"><input class=\"sk-toggleable__control sk-hidden--visually\" id=\"sk-estimator-id-1\" type=\"checkbox\" checked><label for=\"sk-estimator-id-1\" class=\"sk-toggleable__label sk-toggleable__label-arrow\">LinearRegression</label><div class=\"sk-toggleable__content\"><pre>LinearRegression()</pre></div></div></div></div></div>"
      ],
      "text/plain": [
       "LinearRegression()"
      ]
     },
     "execution_count": 109,
     "metadata": {},
     "output_type": "execute_result"
    }
   ],
   "source": [
    "# Data will first be tested with linear regression.\n",
    "from sklearn.linear_model import LinearRegression\n",
    "linear_regression = LinearRegression()\n",
    "linear_regression.fit(x_train, y_train)"
   ]
  },
  {
   "cell_type": "code",
   "execution_count": 110,
   "id": "6388e596",
   "metadata": {},
   "outputs": [
    {
     "data": {
      "text/plain": [
       "array([ 73225.25240424,  57182.77941603,  92503.84709717, ...,\n",
       "       108620.96423185,  30512.66144585,  84445.28852984])"
      ]
     },
     "execution_count": 110,
     "metadata": {},
     "output_type": "execute_result"
    }
   ],
   "source": [
    "# Assign variable 'pred' with linear regression prediction on 'x_test'.\n",
    "pred = linear_regression.predict(x_test)\n",
    "pred"
   ]
  },
  {
   "cell_type": "code",
   "execution_count": 111,
   "id": "0b9515bd",
   "metadata": {},
   "outputs": [
    {
     "data": {
      "text/plain": [
       "16685     70000.0\n",
       "2636      75669.0\n",
       "16439    129996.0\n",
       "16770     85000.0\n",
       "9866      29832.0\n",
       "           ...   \n",
       "9535      39636.0\n",
       "16415    123000.0\n",
       "12801    140000.0\n",
       "6720       8376.0\n",
       "14849    100000.0\n",
       "Name: Salary, Length: 3429, dtype: float64"
      ]
     },
     "execution_count": 111,
     "metadata": {},
     "output_type": "execute_result"
    }
   ],
   "source": [
    "y_test"
   ]
  },
  {
   "cell_type": "code",
   "execution_count": 112,
   "id": "b56c986a",
   "metadata": {},
   "outputs": [
    {
     "data": {
      "text/plain": [
       "16685    -3225.252404\n",
       "2636     18486.220584\n",
       "16439    37492.152903\n",
       "16770      554.711470\n",
       "9866    -30862.934000\n",
       "             ...     \n",
       "9535    -40437.911911\n",
       "16415    14379.035768\n",
       "12801    31379.035768\n",
       "6720    -22136.661446\n",
       "14849    15554.711470\n",
       "Name: Salary, Length: 3429, dtype: float64"
      ]
     },
     "execution_count": 112,
     "metadata": {},
     "output_type": "execute_result"
    }
   ],
   "source": [
    "# Create variable 'difference' to show the difference in Salary between prediction and actual.\n",
    "difference = y_test - pred\n",
    "difference"
   ]
  },
  {
   "cell_type": "code",
   "execution_count": 113,
   "id": "f96fab1a",
   "metadata": {
    "scrolled": false
   },
   "outputs": [
    {
     "data": {
      "text/html": [
       "<div>\n",
       "<style scoped>\n",
       "    .dataframe tbody tr th:only-of-type {\n",
       "        vertical-align: middle;\n",
       "    }\n",
       "\n",
       "    .dataframe tbody tr th {\n",
       "        vertical-align: top;\n",
       "    }\n",
       "\n",
       "    .dataframe thead th {\n",
       "        text-align: right;\n",
       "    }\n",
       "</style>\n",
       "<table border=\"1\" class=\"dataframe\">\n",
       "  <thead>\n",
       "    <tr style=\"text-align: right;\">\n",
       "      <th></th>\n",
       "      <th>Actual</th>\n",
       "      <th>Predicted</th>\n",
       "      <th>Difference</th>\n",
       "    </tr>\n",
       "  </thead>\n",
       "  <tbody>\n",
       "    <tr>\n",
       "      <th>0</th>\n",
       "      <td>70000.0</td>\n",
       "      <td>73225.252404</td>\n",
       "      <td>-3225.252404</td>\n",
       "    </tr>\n",
       "    <tr>\n",
       "      <th>1</th>\n",
       "      <td>75669.0</td>\n",
       "      <td>57182.779416</td>\n",
       "      <td>18486.220584</td>\n",
       "    </tr>\n",
       "    <tr>\n",
       "      <th>2</th>\n",
       "      <td>129996.0</td>\n",
       "      <td>92503.847097</td>\n",
       "      <td>37492.152903</td>\n",
       "    </tr>\n",
       "    <tr>\n",
       "      <th>3</th>\n",
       "      <td>85000.0</td>\n",
       "      <td>84445.288530</td>\n",
       "      <td>554.711470</td>\n",
       "    </tr>\n",
       "    <tr>\n",
       "      <th>4</th>\n",
       "      <td>29832.0</td>\n",
       "      <td>60694.934000</td>\n",
       "      <td>-30862.934000</td>\n",
       "    </tr>\n",
       "    <tr>\n",
       "      <th>...</th>\n",
       "      <td>...</td>\n",
       "      <td>...</td>\n",
       "      <td>...</td>\n",
       "    </tr>\n",
       "    <tr>\n",
       "      <th>3424</th>\n",
       "      <td>39636.0</td>\n",
       "      <td>80073.911911</td>\n",
       "      <td>-40437.911911</td>\n",
       "    </tr>\n",
       "    <tr>\n",
       "      <th>3425</th>\n",
       "      <td>123000.0</td>\n",
       "      <td>108620.964232</td>\n",
       "      <td>14379.035768</td>\n",
       "    </tr>\n",
       "    <tr>\n",
       "      <th>3426</th>\n",
       "      <td>140000.0</td>\n",
       "      <td>108620.964232</td>\n",
       "      <td>31379.035768</td>\n",
       "    </tr>\n",
       "    <tr>\n",
       "      <th>3427</th>\n",
       "      <td>8376.0</td>\n",
       "      <td>30512.661446</td>\n",
       "      <td>-22136.661446</td>\n",
       "    </tr>\n",
       "    <tr>\n",
       "      <th>3428</th>\n",
       "      <td>100000.0</td>\n",
       "      <td>84445.288530</td>\n",
       "      <td>15554.711470</td>\n",
       "    </tr>\n",
       "  </tbody>\n",
       "</table>\n",
       "<p>3429 rows × 3 columns</p>\n",
       "</div>"
      ],
      "text/plain": [
       "        Actual      Predicted    Difference\n",
       "0      70000.0   73225.252404  -3225.252404\n",
       "1      75669.0   57182.779416  18486.220584\n",
       "2     129996.0   92503.847097  37492.152903\n",
       "3      85000.0   84445.288530    554.711470\n",
       "4      29832.0   60694.934000 -30862.934000\n",
       "...        ...            ...           ...\n",
       "3424   39636.0   80073.911911 -40437.911911\n",
       "3425  123000.0  108620.964232  14379.035768\n",
       "3426  140000.0  108620.964232  31379.035768\n",
       "3427    8376.0   30512.661446 -22136.661446\n",
       "3428  100000.0   84445.288530  15554.711470\n",
       "\n",
       "[3429 rows x 3 columns]"
      ]
     },
     "execution_count": 113,
     "metadata": {},
     "output_type": "execute_result"
    }
   ],
   "source": [
    "# Create table to get a better view of the delta.\n",
    "import numpy as np\n",
    "pd.DataFrame(np.c_[y_test, pred, difference], columns = ['Actual', 'Predicted', 'Difference'])"
   ]
  },
  {
   "cell_type": "code",
   "execution_count": 114,
   "id": "4bddae1b",
   "metadata": {},
   "outputs": [
    {
     "data": {
      "text/plain": [
       "0.3974288597943102"
      ]
     },
     "execution_count": 114,
     "metadata": {},
     "output_type": "execute_result"
    }
   ],
   "source": [
    "# Print the score of the linear regression model accuracy.\n",
    "linear_regression.score(x_test, y_test)"
   ]
  },
  {
   "cell_type": "code",
   "execution_count": 115,
   "id": "ad61bd92",
   "metadata": {},
   "outputs": [
    {
     "data": {
      "text/html": [
       "<style>#sk-container-id-2 {color: black;background-color: white;}#sk-container-id-2 pre{padding: 0;}#sk-container-id-2 div.sk-toggleable {background-color: white;}#sk-container-id-2 label.sk-toggleable__label {cursor: pointer;display: block;width: 100%;margin-bottom: 0;padding: 0.3em;box-sizing: border-box;text-align: center;}#sk-container-id-2 label.sk-toggleable__label-arrow:before {content: \"▸\";float: left;margin-right: 0.25em;color: #696969;}#sk-container-id-2 label.sk-toggleable__label-arrow:hover:before {color: black;}#sk-container-id-2 div.sk-estimator:hover label.sk-toggleable__label-arrow:before {color: black;}#sk-container-id-2 div.sk-toggleable__content {max-height: 0;max-width: 0;overflow: hidden;text-align: left;background-color: #f0f8ff;}#sk-container-id-2 div.sk-toggleable__content pre {margin: 0.2em;color: black;border-radius: 0.25em;background-color: #f0f8ff;}#sk-container-id-2 input.sk-toggleable__control:checked~div.sk-toggleable__content {max-height: 200px;max-width: 100%;overflow: auto;}#sk-container-id-2 input.sk-toggleable__control:checked~label.sk-toggleable__label-arrow:before {content: \"▾\";}#sk-container-id-2 div.sk-estimator input.sk-toggleable__control:checked~label.sk-toggleable__label {background-color: #d4ebff;}#sk-container-id-2 div.sk-label input.sk-toggleable__control:checked~label.sk-toggleable__label {background-color: #d4ebff;}#sk-container-id-2 input.sk-hidden--visually {border: 0;clip: rect(1px 1px 1px 1px);clip: rect(1px, 1px, 1px, 1px);height: 1px;margin: -1px;overflow: hidden;padding: 0;position: absolute;width: 1px;}#sk-container-id-2 div.sk-estimator {font-family: monospace;background-color: #f0f8ff;border: 1px dotted black;border-radius: 0.25em;box-sizing: border-box;margin-bottom: 0.5em;}#sk-container-id-2 div.sk-estimator:hover {background-color: #d4ebff;}#sk-container-id-2 div.sk-parallel-item::after {content: \"\";width: 100%;border-bottom: 1px solid gray;flex-grow: 1;}#sk-container-id-2 div.sk-label:hover label.sk-toggleable__label {background-color: #d4ebff;}#sk-container-id-2 div.sk-serial::before {content: \"\";position: absolute;border-left: 1px solid gray;box-sizing: border-box;top: 0;bottom: 0;left: 50%;z-index: 0;}#sk-container-id-2 div.sk-serial {display: flex;flex-direction: column;align-items: center;background-color: white;padding-right: 0.2em;padding-left: 0.2em;position: relative;}#sk-container-id-2 div.sk-item {position: relative;z-index: 1;}#sk-container-id-2 div.sk-parallel {display: flex;align-items: stretch;justify-content: center;background-color: white;position: relative;}#sk-container-id-2 div.sk-item::before, #sk-container-id-2 div.sk-parallel-item::before {content: \"\";position: absolute;border-left: 1px solid gray;box-sizing: border-box;top: 0;bottom: 0;left: 50%;z-index: -1;}#sk-container-id-2 div.sk-parallel-item {display: flex;flex-direction: column;z-index: 1;position: relative;background-color: white;}#sk-container-id-2 div.sk-parallel-item:first-child::after {align-self: flex-end;width: 50%;}#sk-container-id-2 div.sk-parallel-item:last-child::after {align-self: flex-start;width: 50%;}#sk-container-id-2 div.sk-parallel-item:only-child::after {width: 0;}#sk-container-id-2 div.sk-dashed-wrapped {border: 1px dashed gray;margin: 0 0.4em 0.5em 0.4em;box-sizing: border-box;padding-bottom: 0.4em;background-color: white;}#sk-container-id-2 div.sk-label label {font-family: monospace;font-weight: bold;display: inline-block;line-height: 1.2em;}#sk-container-id-2 div.sk-label-container {text-align: center;}#sk-container-id-2 div.sk-container {/* jupyter's `normalize.less` sets `[hidden] { display: none; }` but bootstrap.min.css set `[hidden] { display: none !important; }` so we also need the `!important` here to be able to override the default hidden behavior on the sphinx rendered scikit-learn.org. See: https://github.com/scikit-learn/scikit-learn/issues/21755 */display: inline-block !important;position: relative;}#sk-container-id-2 div.sk-text-repr-fallback {display: none;}</style><div id=\"sk-container-id-2\" class=\"sk-top-container\"><div class=\"sk-text-repr-fallback\"><pre>DecisionTreeRegressor(random_state=4)</pre><b>In a Jupyter environment, please rerun this cell to show the HTML representation or trust the notebook. <br />On GitHub, the HTML representation is unable to render, please try loading this page with nbviewer.org.</b></div><div class=\"sk-container\" hidden><div class=\"sk-item\"><div class=\"sk-estimator sk-toggleable\"><input class=\"sk-toggleable__control sk-hidden--visually\" id=\"sk-estimator-id-2\" type=\"checkbox\" checked><label for=\"sk-estimator-id-2\" class=\"sk-toggleable__label sk-toggleable__label-arrow\">DecisionTreeRegressor</label><div class=\"sk-toggleable__content\"><pre>DecisionTreeRegressor(random_state=4)</pre></div></div></div></div></div>"
      ],
      "text/plain": [
       "DecisionTreeRegressor(random_state=4)"
      ]
     },
     "execution_count": 115,
     "metadata": {},
     "output_type": "execute_result"
    }
   ],
   "source": [
    "# Import decision tree regressor model to test on the data.\n",
    "from sklearn.tree import DecisionTreeRegressor\n",
    "dtr = DecisionTreeRegressor(random_state = 4)\n",
    "dtr.fit(x_train, y_train)"
   ]
  },
  {
   "cell_type": "code",
   "execution_count": 116,
   "id": "25a3ac9f",
   "metadata": {},
   "outputs": [
    {
     "data": {
      "text/plain": [
       "array([105491.17647059,  55820.17241379, 115042.92653061, ...,\n",
       "       125637.40487805,   9479.33333333, 106888.45578231])"
      ]
     },
     "execution_count": 116,
     "metadata": {},
     "output_type": "execute_result"
    }
   ],
   "source": [
    "# Use decision tree regressor to predict salary.\n",
    "dtr_pred = dtr.predict(x_test)\n",
    "dtr_pred"
   ]
  },
  {
   "cell_type": "code",
   "execution_count": 117,
   "id": "de94874c",
   "metadata": {},
   "outputs": [
    {
     "data": {
      "text/plain": [
       "16685   -35491.176471\n",
       "2636     19848.827586\n",
       "16439    14953.073469\n",
       "16770   -21888.455782\n",
       "9866      1785.909091\n",
       "             ...     \n",
       "9535      -938.857143\n",
       "16415    -2637.404878\n",
       "12801    14362.595122\n",
       "6720     -1103.333333\n",
       "14849    -6888.455782\n",
       "Name: Salary, Length: 3429, dtype: float64"
      ]
     },
     "execution_count": 117,
     "metadata": {},
     "output_type": "execute_result"
    }
   ],
   "source": [
    "# Check the delta between actual and predicted.\n",
    "dtr_difference = y_test - dtr_pred\n",
    "dtr_difference"
   ]
  },
  {
   "cell_type": "code",
   "execution_count": 118,
   "id": "622f563b",
   "metadata": {},
   "outputs": [
    {
     "data": {
      "text/html": [
       "<div>\n",
       "<style scoped>\n",
       "    .dataframe tbody tr th:only-of-type {\n",
       "        vertical-align: middle;\n",
       "    }\n",
       "\n",
       "    .dataframe tbody tr th {\n",
       "        vertical-align: top;\n",
       "    }\n",
       "\n",
       "    .dataframe thead th {\n",
       "        text-align: right;\n",
       "    }\n",
       "</style>\n",
       "<table border=\"1\" class=\"dataframe\">\n",
       "  <thead>\n",
       "    <tr style=\"text-align: right;\">\n",
       "      <th></th>\n",
       "      <th>Actual</th>\n",
       "      <th>Predicted</th>\n",
       "      <th>Difference</th>\n",
       "    </tr>\n",
       "  </thead>\n",
       "  <tbody>\n",
       "    <tr>\n",
       "      <th>0</th>\n",
       "      <td>70000.0</td>\n",
       "      <td>105491.176471</td>\n",
       "      <td>-3225.252404</td>\n",
       "    </tr>\n",
       "    <tr>\n",
       "      <th>1</th>\n",
       "      <td>75669.0</td>\n",
       "      <td>55820.172414</td>\n",
       "      <td>18486.220584</td>\n",
       "    </tr>\n",
       "    <tr>\n",
       "      <th>2</th>\n",
       "      <td>129996.0</td>\n",
       "      <td>115042.926531</td>\n",
       "      <td>37492.152903</td>\n",
       "    </tr>\n",
       "    <tr>\n",
       "      <th>3</th>\n",
       "      <td>85000.0</td>\n",
       "      <td>106888.455782</td>\n",
       "      <td>554.711470</td>\n",
       "    </tr>\n",
       "    <tr>\n",
       "      <th>4</th>\n",
       "      <td>29832.0</td>\n",
       "      <td>28046.090909</td>\n",
       "      <td>-30862.934000</td>\n",
       "    </tr>\n",
       "    <tr>\n",
       "      <th>...</th>\n",
       "      <td>...</td>\n",
       "      <td>...</td>\n",
       "      <td>...</td>\n",
       "    </tr>\n",
       "    <tr>\n",
       "      <th>3424</th>\n",
       "      <td>39636.0</td>\n",
       "      <td>40574.857143</td>\n",
       "      <td>-40437.911911</td>\n",
       "    </tr>\n",
       "    <tr>\n",
       "      <th>3425</th>\n",
       "      <td>123000.0</td>\n",
       "      <td>125637.404878</td>\n",
       "      <td>14379.035768</td>\n",
       "    </tr>\n",
       "    <tr>\n",
       "      <th>3426</th>\n",
       "      <td>140000.0</td>\n",
       "      <td>125637.404878</td>\n",
       "      <td>31379.035768</td>\n",
       "    </tr>\n",
       "    <tr>\n",
       "      <th>3427</th>\n",
       "      <td>8376.0</td>\n",
       "      <td>9479.333333</td>\n",
       "      <td>-22136.661446</td>\n",
       "    </tr>\n",
       "    <tr>\n",
       "      <th>3428</th>\n",
       "      <td>100000.0</td>\n",
       "      <td>106888.455782</td>\n",
       "      <td>15554.711470</td>\n",
       "    </tr>\n",
       "  </tbody>\n",
       "</table>\n",
       "<p>3429 rows × 3 columns</p>\n",
       "</div>"
      ],
      "text/plain": [
       "        Actual      Predicted    Difference\n",
       "0      70000.0  105491.176471  -3225.252404\n",
       "1      75669.0   55820.172414  18486.220584\n",
       "2     129996.0  115042.926531  37492.152903\n",
       "3      85000.0  106888.455782    554.711470\n",
       "4      29832.0   28046.090909 -30862.934000\n",
       "...        ...            ...           ...\n",
       "3424   39636.0   40574.857143 -40437.911911\n",
       "3425  123000.0  125637.404878  14379.035768\n",
       "3426  140000.0  125637.404878  31379.035768\n",
       "3427    8376.0    9479.333333 -22136.661446\n",
       "3428  100000.0  106888.455782  15554.711470\n",
       "\n",
       "[3429 rows x 3 columns]"
      ]
     },
     "execution_count": 118,
     "metadata": {},
     "output_type": "execute_result"
    }
   ],
   "source": [
    "# Create table to show the delta for decision tree predictions.\n",
    "import numpy as np\n",
    "pd.DataFrame(np.c_[y_test, dtr_pred, difference], columns = ['Actual', 'Predicted', 'Difference'])"
   ]
  },
  {
   "cell_type": "code",
   "execution_count": 119,
   "id": "03c300d8",
   "metadata": {},
   "outputs": [
    {
     "data": {
      "text/plain": [
       "0.7162067800702243"
      ]
     },
     "execution_count": 119,
     "metadata": {},
     "output_type": "execute_result"
    }
   ],
   "source": [
    "# Print the accuracy score of the decision tree regressor.\n",
    "dtr.score(x_test, y_test)"
   ]
  },
  {
   "cell_type": "code",
   "execution_count": 120,
   "id": "bd8e3bd6",
   "metadata": {},
   "outputs": [
    {
     "data": {
      "text/html": [
       "<style>#sk-container-id-3 {color: black;background-color: white;}#sk-container-id-3 pre{padding: 0;}#sk-container-id-3 div.sk-toggleable {background-color: white;}#sk-container-id-3 label.sk-toggleable__label {cursor: pointer;display: block;width: 100%;margin-bottom: 0;padding: 0.3em;box-sizing: border-box;text-align: center;}#sk-container-id-3 label.sk-toggleable__label-arrow:before {content: \"▸\";float: left;margin-right: 0.25em;color: #696969;}#sk-container-id-3 label.sk-toggleable__label-arrow:hover:before {color: black;}#sk-container-id-3 div.sk-estimator:hover label.sk-toggleable__label-arrow:before {color: black;}#sk-container-id-3 div.sk-toggleable__content {max-height: 0;max-width: 0;overflow: hidden;text-align: left;background-color: #f0f8ff;}#sk-container-id-3 div.sk-toggleable__content pre {margin: 0.2em;color: black;border-radius: 0.25em;background-color: #f0f8ff;}#sk-container-id-3 input.sk-toggleable__control:checked~div.sk-toggleable__content {max-height: 200px;max-width: 100%;overflow: auto;}#sk-container-id-3 input.sk-toggleable__control:checked~label.sk-toggleable__label-arrow:before {content: \"▾\";}#sk-container-id-3 div.sk-estimator input.sk-toggleable__control:checked~label.sk-toggleable__label {background-color: #d4ebff;}#sk-container-id-3 div.sk-label input.sk-toggleable__control:checked~label.sk-toggleable__label {background-color: #d4ebff;}#sk-container-id-3 input.sk-hidden--visually {border: 0;clip: rect(1px 1px 1px 1px);clip: rect(1px, 1px, 1px, 1px);height: 1px;margin: -1px;overflow: hidden;padding: 0;position: absolute;width: 1px;}#sk-container-id-3 div.sk-estimator {font-family: monospace;background-color: #f0f8ff;border: 1px dotted black;border-radius: 0.25em;box-sizing: border-box;margin-bottom: 0.5em;}#sk-container-id-3 div.sk-estimator:hover {background-color: #d4ebff;}#sk-container-id-3 div.sk-parallel-item::after {content: \"\";width: 100%;border-bottom: 1px solid gray;flex-grow: 1;}#sk-container-id-3 div.sk-label:hover label.sk-toggleable__label {background-color: #d4ebff;}#sk-container-id-3 div.sk-serial::before {content: \"\";position: absolute;border-left: 1px solid gray;box-sizing: border-box;top: 0;bottom: 0;left: 50%;z-index: 0;}#sk-container-id-3 div.sk-serial {display: flex;flex-direction: column;align-items: center;background-color: white;padding-right: 0.2em;padding-left: 0.2em;position: relative;}#sk-container-id-3 div.sk-item {position: relative;z-index: 1;}#sk-container-id-3 div.sk-parallel {display: flex;align-items: stretch;justify-content: center;background-color: white;position: relative;}#sk-container-id-3 div.sk-item::before, #sk-container-id-3 div.sk-parallel-item::before {content: \"\";position: absolute;border-left: 1px solid gray;box-sizing: border-box;top: 0;bottom: 0;left: 50%;z-index: -1;}#sk-container-id-3 div.sk-parallel-item {display: flex;flex-direction: column;z-index: 1;position: relative;background-color: white;}#sk-container-id-3 div.sk-parallel-item:first-child::after {align-self: flex-end;width: 50%;}#sk-container-id-3 div.sk-parallel-item:last-child::after {align-self: flex-start;width: 50%;}#sk-container-id-3 div.sk-parallel-item:only-child::after {width: 0;}#sk-container-id-3 div.sk-dashed-wrapped {border: 1px dashed gray;margin: 0 0.4em 0.5em 0.4em;box-sizing: border-box;padding-bottom: 0.4em;background-color: white;}#sk-container-id-3 div.sk-label label {font-family: monospace;font-weight: bold;display: inline-block;line-height: 1.2em;}#sk-container-id-3 div.sk-label-container {text-align: center;}#sk-container-id-3 div.sk-container {/* jupyter's `normalize.less` sets `[hidden] { display: none; }` but bootstrap.min.css set `[hidden] { display: none !important; }` so we also need the `!important` here to be able to override the default hidden behavior on the sphinx rendered scikit-learn.org. See: https://github.com/scikit-learn/scikit-learn/issues/21755 */display: inline-block !important;position: relative;}#sk-container-id-3 div.sk-text-repr-fallback {display: none;}</style><div id=\"sk-container-id-3\" class=\"sk-top-container\"><div class=\"sk-text-repr-fallback\"><pre>RandomForestRegressor(random_state=4)</pre><b>In a Jupyter environment, please rerun this cell to show the HTML representation or trust the notebook. <br />On GitHub, the HTML representation is unable to render, please try loading this page with nbviewer.org.</b></div><div class=\"sk-container\" hidden><div class=\"sk-item\"><div class=\"sk-estimator sk-toggleable\"><input class=\"sk-toggleable__control sk-hidden--visually\" id=\"sk-estimator-id-3\" type=\"checkbox\" checked><label for=\"sk-estimator-id-3\" class=\"sk-toggleable__label sk-toggleable__label-arrow\">RandomForestRegressor</label><div class=\"sk-toggleable__content\"><pre>RandomForestRegressor(random_state=4)</pre></div></div></div></div></div>"
      ],
      "text/plain": [
       "RandomForestRegressor(random_state=4)"
      ]
     },
     "execution_count": 120,
     "metadata": {},
     "output_type": "execute_result"
    }
   ],
   "source": [
    "# Import random forest regressor model to test on data.\n",
    "from sklearn.ensemble import RandomForestRegressor\n",
    "rfr = RandomForestRegressor(random_state = 4)\n",
    "rfr.fit(x_train, y_train)"
   ]
  },
  {
   "cell_type": "code",
   "execution_count": 121,
   "id": "307a46a7",
   "metadata": {},
   "outputs": [
    {
     "data": {
      "text/plain": [
       "array([105396.60021099,  55865.59916238, 115108.31704008, ...,\n",
       "       125575.32848331,   9546.76536047, 106647.760298  ])"
      ]
     },
     "execution_count": 121,
     "metadata": {},
     "output_type": "execute_result"
    }
   ],
   "source": [
    "# Use the random forest regressor to predict salary.\n",
    "rfr_pred = rfr.predict(x_test)\n",
    "rfr_pred"
   ]
  },
  {
   "cell_type": "code",
   "execution_count": 122,
   "id": "af7797d3",
   "metadata": {},
   "outputs": [
    {
     "data": {
      "text/plain": [
       "16685   -35396.600211\n",
       "2636     19803.400838\n",
       "16439    14887.682960\n",
       "16770   -21647.760298\n",
       "9866      2125.640258\n",
       "             ...     \n",
       "9535      -188.364474\n",
       "16415    -2575.328483\n",
       "12801    14424.671517\n",
       "6720     -1170.765360\n",
       "14849    -6647.760298\n",
       "Name: Salary, Length: 3429, dtype: float64"
      ]
     },
     "execution_count": 122,
     "metadata": {},
     "output_type": "execute_result"
    }
   ],
   "source": [
    "rfr_difference = y_test - rfr_pred\n",
    "rfr_difference"
   ]
  },
  {
   "cell_type": "code",
   "execution_count": 123,
   "id": "6a6b1592",
   "metadata": {},
   "outputs": [
    {
     "data": {
      "text/plain": [
       "0.717146783869838"
      ]
     },
     "execution_count": 123,
     "metadata": {},
     "output_type": "execute_result"
    }
   ],
   "source": [
    "# Show to accuracy score of the random forest regressor.\n",
    "rfr.score(x_test, y_test)"
   ]
  },
  {
   "cell_type": "code",
   "execution_count": 124,
   "id": "7f9ebdda",
   "metadata": {},
   "outputs": [],
   "source": [
    "# Import polynomial regression model to test data.\n",
    "from sklearn.preprocessing import PolynomialFeatures\n",
    "lr_poly = LinearRegression()\n",
    "poly_feat = PolynomialFeatures(degree = 12)\n",
    "X = poly_feat.fit_transform(x_train)"
   ]
  },
  {
   "cell_type": "code",
   "execution_count": 125,
   "id": "8070e712",
   "metadata": {},
   "outputs": [
    {
     "data": {
      "text/plain": [
       "(13715, 455)"
      ]
     },
     "execution_count": 125,
     "metadata": {},
     "output_type": "execute_result"
    }
   ],
   "source": [
    "X.shape"
   ]
  },
  {
   "cell_type": "code",
   "execution_count": 126,
   "id": "fb92f092",
   "metadata": {},
   "outputs": [
    {
     "data": {
      "text/html": [
       "<style>#sk-container-id-4 {color: black;background-color: white;}#sk-container-id-4 pre{padding: 0;}#sk-container-id-4 div.sk-toggleable {background-color: white;}#sk-container-id-4 label.sk-toggleable__label {cursor: pointer;display: block;width: 100%;margin-bottom: 0;padding: 0.3em;box-sizing: border-box;text-align: center;}#sk-container-id-4 label.sk-toggleable__label-arrow:before {content: \"▸\";float: left;margin-right: 0.25em;color: #696969;}#sk-container-id-4 label.sk-toggleable__label-arrow:hover:before {color: black;}#sk-container-id-4 div.sk-estimator:hover label.sk-toggleable__label-arrow:before {color: black;}#sk-container-id-4 div.sk-toggleable__content {max-height: 0;max-width: 0;overflow: hidden;text-align: left;background-color: #f0f8ff;}#sk-container-id-4 div.sk-toggleable__content pre {margin: 0.2em;color: black;border-radius: 0.25em;background-color: #f0f8ff;}#sk-container-id-4 input.sk-toggleable__control:checked~div.sk-toggleable__content {max-height: 200px;max-width: 100%;overflow: auto;}#sk-container-id-4 input.sk-toggleable__control:checked~label.sk-toggleable__label-arrow:before {content: \"▾\";}#sk-container-id-4 div.sk-estimator input.sk-toggleable__control:checked~label.sk-toggleable__label {background-color: #d4ebff;}#sk-container-id-4 div.sk-label input.sk-toggleable__control:checked~label.sk-toggleable__label {background-color: #d4ebff;}#sk-container-id-4 input.sk-hidden--visually {border: 0;clip: rect(1px 1px 1px 1px);clip: rect(1px, 1px, 1px, 1px);height: 1px;margin: -1px;overflow: hidden;padding: 0;position: absolute;width: 1px;}#sk-container-id-4 div.sk-estimator {font-family: monospace;background-color: #f0f8ff;border: 1px dotted black;border-radius: 0.25em;box-sizing: border-box;margin-bottom: 0.5em;}#sk-container-id-4 div.sk-estimator:hover {background-color: #d4ebff;}#sk-container-id-4 div.sk-parallel-item::after {content: \"\";width: 100%;border-bottom: 1px solid gray;flex-grow: 1;}#sk-container-id-4 div.sk-label:hover label.sk-toggleable__label {background-color: #d4ebff;}#sk-container-id-4 div.sk-serial::before {content: \"\";position: absolute;border-left: 1px solid gray;box-sizing: border-box;top: 0;bottom: 0;left: 50%;z-index: 0;}#sk-container-id-4 div.sk-serial {display: flex;flex-direction: column;align-items: center;background-color: white;padding-right: 0.2em;padding-left: 0.2em;position: relative;}#sk-container-id-4 div.sk-item {position: relative;z-index: 1;}#sk-container-id-4 div.sk-parallel {display: flex;align-items: stretch;justify-content: center;background-color: white;position: relative;}#sk-container-id-4 div.sk-item::before, #sk-container-id-4 div.sk-parallel-item::before {content: \"\";position: absolute;border-left: 1px solid gray;box-sizing: border-box;top: 0;bottom: 0;left: 50%;z-index: -1;}#sk-container-id-4 div.sk-parallel-item {display: flex;flex-direction: column;z-index: 1;position: relative;background-color: white;}#sk-container-id-4 div.sk-parallel-item:first-child::after {align-self: flex-end;width: 50%;}#sk-container-id-4 div.sk-parallel-item:last-child::after {align-self: flex-start;width: 50%;}#sk-container-id-4 div.sk-parallel-item:only-child::after {width: 0;}#sk-container-id-4 div.sk-dashed-wrapped {border: 1px dashed gray;margin: 0 0.4em 0.5em 0.4em;box-sizing: border-box;padding-bottom: 0.4em;background-color: white;}#sk-container-id-4 div.sk-label label {font-family: monospace;font-weight: bold;display: inline-block;line-height: 1.2em;}#sk-container-id-4 div.sk-label-container {text-align: center;}#sk-container-id-4 div.sk-container {/* jupyter's `normalize.less` sets `[hidden] { display: none; }` but bootstrap.min.css set `[hidden] { display: none !important; }` so we also need the `!important` here to be able to override the default hidden behavior on the sphinx rendered scikit-learn.org. See: https://github.com/scikit-learn/scikit-learn/issues/21755 */display: inline-block !important;position: relative;}#sk-container-id-4 div.sk-text-repr-fallback {display: none;}</style><div id=\"sk-container-id-4\" class=\"sk-top-container\"><div class=\"sk-text-repr-fallback\"><pre>LinearRegression()</pre><b>In a Jupyter environment, please rerun this cell to show the HTML representation or trust the notebook. <br />On GitHub, the HTML representation is unable to render, please try loading this page with nbviewer.org.</b></div><div class=\"sk-container\" hidden><div class=\"sk-item\"><div class=\"sk-estimator sk-toggleable\"><input class=\"sk-toggleable__control sk-hidden--visually\" id=\"sk-estimator-id-4\" type=\"checkbox\" checked><label for=\"sk-estimator-id-4\" class=\"sk-toggleable__label sk-toggleable__label-arrow\">LinearRegression</label><div class=\"sk-toggleable__content\"><pre>LinearRegression()</pre></div></div></div></div></div>"
      ],
      "text/plain": [
       "LinearRegression()"
      ]
     },
     "execution_count": 126,
     "metadata": {},
     "output_type": "execute_result"
    }
   ],
   "source": [
    "# Call linear regression function on polynomial data.\n",
    "polynomial = LinearRegression()\n",
    "polynomial.fit(X, y_train)\n"
   ]
  },
  {
   "cell_type": "code",
   "execution_count": 127,
   "id": "f45926e0",
   "metadata": {},
   "outputs": [
    {
     "data": {
      "text/plain": [
       "0.6611942528784339"
      ]
     },
     "execution_count": 127,
     "metadata": {},
     "output_type": "execute_result"
    }
   ],
   "source": [
    "# Accuracy score of predicting salary with polynomial regression.\n",
    "polynomial.score(X, y_train)"
   ]
  },
  {
   "cell_type": "code",
   "execution_count": 128,
   "id": "7796a6f4",
   "metadata": {},
   "outputs": [
    {
     "data": {
      "text/html": [
       "<style>#sk-container-id-5 {color: black;background-color: white;}#sk-container-id-5 pre{padding: 0;}#sk-container-id-5 div.sk-toggleable {background-color: white;}#sk-container-id-5 label.sk-toggleable__label {cursor: pointer;display: block;width: 100%;margin-bottom: 0;padding: 0.3em;box-sizing: border-box;text-align: center;}#sk-container-id-5 label.sk-toggleable__label-arrow:before {content: \"▸\";float: left;margin-right: 0.25em;color: #696969;}#sk-container-id-5 label.sk-toggleable__label-arrow:hover:before {color: black;}#sk-container-id-5 div.sk-estimator:hover label.sk-toggleable__label-arrow:before {color: black;}#sk-container-id-5 div.sk-toggleable__content {max-height: 0;max-width: 0;overflow: hidden;text-align: left;background-color: #f0f8ff;}#sk-container-id-5 div.sk-toggleable__content pre {margin: 0.2em;color: black;border-radius: 0.25em;background-color: #f0f8ff;}#sk-container-id-5 input.sk-toggleable__control:checked~div.sk-toggleable__content {max-height: 200px;max-width: 100%;overflow: auto;}#sk-container-id-5 input.sk-toggleable__control:checked~label.sk-toggleable__label-arrow:before {content: \"▾\";}#sk-container-id-5 div.sk-estimator input.sk-toggleable__control:checked~label.sk-toggleable__label {background-color: #d4ebff;}#sk-container-id-5 div.sk-label input.sk-toggleable__control:checked~label.sk-toggleable__label {background-color: #d4ebff;}#sk-container-id-5 input.sk-hidden--visually {border: 0;clip: rect(1px 1px 1px 1px);clip: rect(1px, 1px, 1px, 1px);height: 1px;margin: -1px;overflow: hidden;padding: 0;position: absolute;width: 1px;}#sk-container-id-5 div.sk-estimator {font-family: monospace;background-color: #f0f8ff;border: 1px dotted black;border-radius: 0.25em;box-sizing: border-box;margin-bottom: 0.5em;}#sk-container-id-5 div.sk-estimator:hover {background-color: #d4ebff;}#sk-container-id-5 div.sk-parallel-item::after {content: \"\";width: 100%;border-bottom: 1px solid gray;flex-grow: 1;}#sk-container-id-5 div.sk-label:hover label.sk-toggleable__label {background-color: #d4ebff;}#sk-container-id-5 div.sk-serial::before {content: \"\";position: absolute;border-left: 1px solid gray;box-sizing: border-box;top: 0;bottom: 0;left: 50%;z-index: 0;}#sk-container-id-5 div.sk-serial {display: flex;flex-direction: column;align-items: center;background-color: white;padding-right: 0.2em;padding-left: 0.2em;position: relative;}#sk-container-id-5 div.sk-item {position: relative;z-index: 1;}#sk-container-id-5 div.sk-parallel {display: flex;align-items: stretch;justify-content: center;background-color: white;position: relative;}#sk-container-id-5 div.sk-item::before, #sk-container-id-5 div.sk-parallel-item::before {content: \"\";position: absolute;border-left: 1px solid gray;box-sizing: border-box;top: 0;bottom: 0;left: 50%;z-index: -1;}#sk-container-id-5 div.sk-parallel-item {display: flex;flex-direction: column;z-index: 1;position: relative;background-color: white;}#sk-container-id-5 div.sk-parallel-item:first-child::after {align-self: flex-end;width: 50%;}#sk-container-id-5 div.sk-parallel-item:last-child::after {align-self: flex-start;width: 50%;}#sk-container-id-5 div.sk-parallel-item:only-child::after {width: 0;}#sk-container-id-5 div.sk-dashed-wrapped {border: 1px dashed gray;margin: 0 0.4em 0.5em 0.4em;box-sizing: border-box;padding-bottom: 0.4em;background-color: white;}#sk-container-id-5 div.sk-label label {font-family: monospace;font-weight: bold;display: inline-block;line-height: 1.2em;}#sk-container-id-5 div.sk-label-container {text-align: center;}#sk-container-id-5 div.sk-container {/* jupyter's `normalize.less` sets `[hidden] { display: none; }` but bootstrap.min.css set `[hidden] { display: none !important; }` so we also need the `!important` here to be able to override the default hidden behavior on the sphinx rendered scikit-learn.org. See: https://github.com/scikit-learn/scikit-learn/issues/21755 */display: inline-block !important;position: relative;}#sk-container-id-5 div.sk-text-repr-fallback {display: none;}</style><div id=\"sk-container-id-5\" class=\"sk-top-container\"><div class=\"sk-text-repr-fallback\"><pre>GridSearchCV(estimator=DecisionTreeRegressor(random_state=4),\n",
       "             param_grid={&#x27;max_depth&#x27;: [None, 2, 4, 6, 8, 10, 12, 14, 16]},\n",
       "             scoring=&#x27;neg_mean_squared_error&#x27;)</pre><b>In a Jupyter environment, please rerun this cell to show the HTML representation or trust the notebook. <br />On GitHub, the HTML representation is unable to render, please try loading this page with nbviewer.org.</b></div><div class=\"sk-container\" hidden><div class=\"sk-item sk-dashed-wrapped\"><div class=\"sk-label-container\"><div class=\"sk-label sk-toggleable\"><input class=\"sk-toggleable__control sk-hidden--visually\" id=\"sk-estimator-id-5\" type=\"checkbox\" ><label for=\"sk-estimator-id-5\" class=\"sk-toggleable__label sk-toggleable__label-arrow\">GridSearchCV</label><div class=\"sk-toggleable__content\"><pre>GridSearchCV(estimator=DecisionTreeRegressor(random_state=4),\n",
       "             param_grid={&#x27;max_depth&#x27;: [None, 2, 4, 6, 8, 10, 12, 14, 16]},\n",
       "             scoring=&#x27;neg_mean_squared_error&#x27;)</pre></div></div></div><div class=\"sk-parallel\"><div class=\"sk-parallel-item\"><div class=\"sk-item\"><div class=\"sk-label-container\"><div class=\"sk-label sk-toggleable\"><input class=\"sk-toggleable__control sk-hidden--visually\" id=\"sk-estimator-id-6\" type=\"checkbox\" ><label for=\"sk-estimator-id-6\" class=\"sk-toggleable__label sk-toggleable__label-arrow\">estimator: DecisionTreeRegressor</label><div class=\"sk-toggleable__content\"><pre>DecisionTreeRegressor(random_state=4)</pre></div></div></div><div class=\"sk-serial\"><div class=\"sk-item\"><div class=\"sk-estimator sk-toggleable\"><input class=\"sk-toggleable__control sk-hidden--visually\" id=\"sk-estimator-id-7\" type=\"checkbox\" ><label for=\"sk-estimator-id-7\" class=\"sk-toggleable__label sk-toggleable__label-arrow\">DecisionTreeRegressor</label><div class=\"sk-toggleable__content\"><pre>DecisionTreeRegressor(random_state=4)</pre></div></div></div></div></div></div></div></div></div></div>"
      ],
      "text/plain": [
       "GridSearchCV(estimator=DecisionTreeRegressor(random_state=4),\n",
       "             param_grid={'max_depth': [None, 2, 4, 6, 8, 10, 12, 14, 16]},\n",
       "             scoring='neg_mean_squared_error')"
      ]
     },
     "execution_count": 128,
     "metadata": {},
     "output_type": "execute_result"
    }
   ],
   "source": [
    "# Import grid search and use the data with decision tree.\n",
    "from sklearn.model_selection import GridSearchCV\n",
    "max_depth = [None, 2, 4, 6, 8, 10, 12, 14, 16]\n",
    "parameters = {'max_depth':max_depth}\n",
    "\n",
    "regressor = DecisionTreeRegressor(random_state = 4)\n",
    "gs = GridSearchCV(regressor, parameters, scoring = 'neg_mean_squared_error')\n",
    "gs.fit(x_train, y_train)"
   ]
  },
  {
   "cell_type": "code",
   "execution_count": 129,
   "id": "286c30b7",
   "metadata": {},
   "outputs": [
    {
     "data": {
      "text/plain": [
       "0.7115115709199025"
      ]
     },
     "execution_count": 129,
     "metadata": {},
     "output_type": "execute_result"
    }
   ],
   "source": [
    "# Predict the salary and show the accuracy score.\n",
    "regressor = gs.best_estimator_\n",
    "\n",
    "regressor.fit(x_train, y_train)\n",
    "y_pred = regressor.predict(x_train)\n",
    "regressor.score(x_train, y_train)"
   ]
  },
  {
   "cell_type": "code",
   "execution_count": 130,
   "id": "1883c2a2",
   "metadata": {},
   "outputs": [
    {
     "data": {
      "text/html": [
       "<div>\n",
       "<style scoped>\n",
       "    .dataframe tbody tr th:only-of-type {\n",
       "        vertical-align: middle;\n",
       "    }\n",
       "\n",
       "    .dataframe tbody tr th {\n",
       "        vertical-align: top;\n",
       "    }\n",
       "\n",
       "    .dataframe thead th {\n",
       "        text-align: right;\n",
       "    }\n",
       "</style>\n",
       "<table border=\"1\" class=\"dataframe\">\n",
       "  <thead>\n",
       "    <tr style=\"text-align: right;\">\n",
       "      <th></th>\n",
       "      <th>Country</th>\n",
       "      <th>EdLevel</th>\n",
       "      <th>YearsCodePro</th>\n",
       "    </tr>\n",
       "  </thead>\n",
       "  <tbody>\n",
       "    <tr>\n",
       "      <th>0</th>\n",
       "      <td>0</td>\n",
       "      <td>2</td>\n",
       "      <td>2.0</td>\n",
       "    </tr>\n",
       "    <tr>\n",
       "      <th>1</th>\n",
       "      <td>0</td>\n",
       "      <td>0</td>\n",
       "      <td>1.0</td>\n",
       "    </tr>\n",
       "    <tr>\n",
       "      <th>2</th>\n",
       "      <td>0</td>\n",
       "      <td>1</td>\n",
       "      <td>0.5</td>\n",
       "    </tr>\n",
       "    <tr>\n",
       "      <th>3</th>\n",
       "      <td>0</td>\n",
       "      <td>3</td>\n",
       "      <td>7.0</td>\n",
       "    </tr>\n",
       "    <tr>\n",
       "      <th>4</th>\n",
       "      <td>0</td>\n",
       "      <td>0</td>\n",
       "      <td>5.0</td>\n",
       "    </tr>\n",
       "    <tr>\n",
       "      <th>...</th>\n",
       "      <td>...</td>\n",
       "      <td>...</td>\n",
       "      <td>...</td>\n",
       "    </tr>\n",
       "    <tr>\n",
       "      <th>17139</th>\n",
       "      <td>13</td>\n",
       "      <td>0</td>\n",
       "      <td>2.0</td>\n",
       "    </tr>\n",
       "    <tr>\n",
       "      <th>17140</th>\n",
       "      <td>13</td>\n",
       "      <td>0</td>\n",
       "      <td>2.0</td>\n",
       "    </tr>\n",
       "    <tr>\n",
       "      <th>17141</th>\n",
       "      <td>13</td>\n",
       "      <td>0</td>\n",
       "      <td>10.0</td>\n",
       "    </tr>\n",
       "    <tr>\n",
       "      <th>17142</th>\n",
       "      <td>13</td>\n",
       "      <td>0</td>\n",
       "      <td>5.0</td>\n",
       "    </tr>\n",
       "    <tr>\n",
       "      <th>17143</th>\n",
       "      <td>13</td>\n",
       "      <td>1</td>\n",
       "      <td>4.0</td>\n",
       "    </tr>\n",
       "  </tbody>\n",
       "</table>\n",
       "<p>17144 rows × 3 columns</p>\n",
       "</div>"
      ],
      "text/plain": [
       "       Country  EdLevel  YearsCodePro\n",
       "0            0        2           2.0\n",
       "1            0        0           1.0\n",
       "2            0        1           0.5\n",
       "3            0        3           7.0\n",
       "4            0        0           5.0\n",
       "...        ...      ...           ...\n",
       "17139       13        0           2.0\n",
       "17140       13        0           2.0\n",
       "17141       13        0          10.0\n",
       "17142       13        0           5.0\n",
       "17143       13        1           4.0\n",
       "\n",
       "[17144 rows x 3 columns]"
      ]
     },
     "execution_count": 130,
     "metadata": {},
     "output_type": "execute_result"
    }
   ],
   "source": [
    "# Show contents of 'x' from splitting the dataset into training and testing data.\n",
    "x"
   ]
  },
  {
   "cell_type": "code",
   "execution_count": 131,
   "id": "1bd92bd9",
   "metadata": {},
   "outputs": [
    {
     "data": {
      "text/plain": [
       "array([['United States of America', \"Master's Degree\", '10']],\n",
       "      dtype='<U24')"
      ]
     },
     "execution_count": 131,
     "metadata": {},
     "output_type": "execute_result"
    }
   ],
   "source": [
    "# Create array for 'x' that includes data points 'Country', 'EdLevel', and 'YearsCodePro'.\n",
    "# Used as an example for how input data will be collected by the web app user and tested by the program.\n",
    "x = np.array([[\"United States of America\", \"Master's Degree\", 10]])\n",
    "x"
   ]
  },
  {
   "cell_type": "code",
   "execution_count": 132,
   "id": "5d6c88bc",
   "metadata": {},
   "outputs": [
    {
     "data": {
      "text/plain": [
       "array([[13.,  2., 10.]])"
      ]
     },
     "execution_count": 132,
     "metadata": {},
     "output_type": "execute_result"
    }
   ],
   "source": [
    "# Apply label encoder to change to values to float for the program to use.\n",
    "# Will be used again for the web app to transform user input.\n",
    "x[:, 0] = country_after_LE.transform(x[:, 0])\n",
    "x[:, 1] = education_after_LE.transform(x[:, 1])\n",
    "x = x.astype(float)\n",
    "x"
   ]
  },
  {
   "cell_type": "code",
   "execution_count": 133,
   "id": "1a8fb1ea",
   "metadata": {},
   "outputs": [
    {
     "name": "stderr",
     "output_type": "stream",
     "text": [
      "/Users/dallasmerck/opt/anaconda3/envs/ML/lib/python3.9/site-packages/sklearn/base.py:450: UserWarning: X does not have valid feature names, but RandomForestRegressor was fitted with feature names\n",
      "  warnings.warn(\n"
     ]
    },
    {
     "data": {
      "text/plain": [
       "array([128852.20126301])"
      ]
     },
     "execution_count": 133,
     "metadata": {},
     "output_type": "execute_result"
    }
   ],
   "source": [
    "# Random forest has the most accurate salary predictions for the dataset.\n",
    "# Use random forest to predict input 'x'.\n",
    "rfr_pred = rfr.predict(x)\n",
    "rfr_pred"
   ]
  },
  {
   "cell_type": "code",
   "execution_count": 134,
   "id": "f84ded00",
   "metadata": {},
   "outputs": [],
   "source": [
    "# Import pickle to convert to byte stream.\n",
    "import pickle"
   ]
  },
  {
   "cell_type": "code",
   "execution_count": 135,
   "id": "8bdd400f",
   "metadata": {},
   "outputs": [],
   "source": [
    "# Using pickle, model can be saved in directory.\n",
    "data = {\"model\": rfr, \"country_after_LE\": country_after_LE, \"education_after_LE\": education_after_LE}\n",
    "with open('saved_steps.pkl', 'wb') as file:\n",
    "    pickle.dump(data, file)"
   ]
  },
  {
   "cell_type": "code",
   "execution_count": 136,
   "id": "e489f197",
   "metadata": {},
   "outputs": [],
   "source": [
    "# Uses pickle to load the data from the model.\n",
    "with open('saved_steps.pkl', 'rb') as file:\n",
    "    data = pickle.load(file)\n",
    "    \n",
    "rfr_loaded = data[\"model\"]\n",
    "country_after_LE = data[\"country_after_LE\"]\n",
    "education_after_LE = data[\"education_after_LE\"]"
   ]
  },
  {
   "cell_type": "code",
   "execution_count": 137,
   "id": "e75d1c02",
   "metadata": {
    "scrolled": true
   },
   "outputs": [
    {
     "name": "stderr",
     "output_type": "stream",
     "text": [
      "/Users/dallasmerck/opt/anaconda3/envs/ML/lib/python3.9/site-packages/sklearn/base.py:450: UserWarning: X does not have valid feature names, but RandomForestRegressor was fitted with feature names\n",
      "  warnings.warn(\n"
     ]
    },
    {
     "data": {
      "text/plain": [
       "array([128852.20126301])"
      ]
     },
     "execution_count": 137,
     "metadata": {},
     "output_type": "execute_result"
    }
   ],
   "source": [
    "# Final prediction model for the web app.\n",
    "rfr_pred = rfr_loaded.predict(x)\n",
    "rfr_pred"
   ]
  },
  {
   "cell_type": "code",
   "execution_count": null,
   "id": "62d4387d",
   "metadata": {},
   "outputs": [],
   "source": []
  }
 ],
 "metadata": {
  "kernelspec": {
   "display_name": "ML",
   "language": "python",
   "name": "ml"
  },
  "language_info": {
   "codemirror_mode": {
    "name": "ipython",
    "version": 3
   },
   "file_extension": ".py",
   "mimetype": "text/x-python",
   "name": "python",
   "nbconvert_exporter": "python",
   "pygments_lexer": "ipython3",
   "version": "3.9.12"
  }
 },
 "nbformat": 4,
 "nbformat_minor": 5
}
